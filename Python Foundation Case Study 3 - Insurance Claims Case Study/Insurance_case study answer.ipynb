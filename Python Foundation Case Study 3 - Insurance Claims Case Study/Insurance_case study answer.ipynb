{
 "cells": [
  {
   "cell_type": "code",
   "execution_count": 380,
   "id": "fa9fabb2-ff1c-4091-9c42-51ff292331e9",
   "metadata": {},
   "outputs": [],
   "source": [
    "import pandas as pd\n",
    "import numpy as np\n",
    "import seaborn as sns \n",
    "import datetime\n",
    "import matplotlib.pyplot as plt\n",
    "import scipy.stats as stats"
   ]
  },
  {
   "cell_type": "code",
   "execution_count": 381,
   "id": "9ec92010-e43c-4d13-a544-584265dab8bc",
   "metadata": {},
   "outputs": [],
   "source": [
    "Claims = pd.read_csv('claims.csv')"
   ]
  },
  {
   "cell_type": "code",
   "execution_count": 382,
   "id": "e441f6a3-1158-472c-9189-5980a82fccc8",
   "metadata": {},
   "outputs": [],
   "source": [
    "Cust_demo = pd.read_csv('cust_demographics.csv')"
   ]
  },
  {
   "cell_type": "code",
   "execution_count": 383,
   "id": "6dc501d8-2a8c-4c12-8a09-c376c89eebe3",
   "metadata": {},
   "outputs": [
    {
     "data": {
      "text/html": [
       "<div>\n",
       "<style scoped>\n",
       "    .dataframe tbody tr th:only-of-type {\n",
       "        vertical-align: middle;\n",
       "    }\n",
       "\n",
       "    .dataframe tbody tr th {\n",
       "        vertical-align: top;\n",
       "    }\n",
       "\n",
       "    .dataframe thead th {\n",
       "        text-align: right;\n",
       "    }\n",
       "</style>\n",
       "<table border=\"1\" class=\"dataframe\">\n",
       "  <thead>\n",
       "    <tr style=\"text-align: right;\">\n",
       "      <th></th>\n",
       "      <th>claim_id</th>\n",
       "      <th>customer_id</th>\n",
       "      <th>incident_cause</th>\n",
       "      <th>claim_date</th>\n",
       "      <th>claim_area</th>\n",
       "      <th>police_report</th>\n",
       "      <th>claim_type</th>\n",
       "      <th>claim_amount</th>\n",
       "      <th>total_policy_claims</th>\n",
       "      <th>fraudulent</th>\n",
       "    </tr>\n",
       "  </thead>\n",
       "  <tbody>\n",
       "    <tr>\n",
       "      <th>0</th>\n",
       "      <td>54004764</td>\n",
       "      <td>21868593</td>\n",
       "      <td>Driver error</td>\n",
       "      <td>11/27/2017</td>\n",
       "      <td>Auto</td>\n",
       "      <td>No</td>\n",
       "      <td>Material only</td>\n",
       "      <td>$2980</td>\n",
       "      <td>1.0</td>\n",
       "      <td>No</td>\n",
       "    </tr>\n",
       "    <tr>\n",
       "      <th>1</th>\n",
       "      <td>33985796</td>\n",
       "      <td>75740424</td>\n",
       "      <td>Crime</td>\n",
       "      <td>10/03/2018</td>\n",
       "      <td>Home</td>\n",
       "      <td>Unknown</td>\n",
       "      <td>Material only</td>\n",
       "      <td>$2980</td>\n",
       "      <td>3.0</td>\n",
       "      <td>No</td>\n",
       "    </tr>\n",
       "    <tr>\n",
       "      <th>2</th>\n",
       "      <td>53522022</td>\n",
       "      <td>30308357</td>\n",
       "      <td>Other driver error</td>\n",
       "      <td>02/02/2018</td>\n",
       "      <td>Auto</td>\n",
       "      <td>No</td>\n",
       "      <td>Material only</td>\n",
       "      <td>$3369.5</td>\n",
       "      <td>1.0</td>\n",
       "      <td>Yes</td>\n",
       "    </tr>\n",
       "    <tr>\n",
       "      <th>3</th>\n",
       "      <td>13015401</td>\n",
       "      <td>47830476</td>\n",
       "      <td>Natural causes</td>\n",
       "      <td>06/17/2018</td>\n",
       "      <td>Auto</td>\n",
       "      <td>No</td>\n",
       "      <td>Material only</td>\n",
       "      <td>$1680</td>\n",
       "      <td>1.0</td>\n",
       "      <td>No</td>\n",
       "    </tr>\n",
       "    <tr>\n",
       "      <th>4</th>\n",
       "      <td>22890252</td>\n",
       "      <td>19269962</td>\n",
       "      <td>Crime</td>\n",
       "      <td>01/13/2018</td>\n",
       "      <td>Auto</td>\n",
       "      <td>No</td>\n",
       "      <td>Material only</td>\n",
       "      <td>$2680</td>\n",
       "      <td>1.0</td>\n",
       "      <td>No</td>\n",
       "    </tr>\n",
       "  </tbody>\n",
       "</table>\n",
       "</div>"
      ],
      "text/plain": [
       "   claim_id  customer_id      incident_cause  claim_date claim_area  \\\n",
       "0  54004764     21868593        Driver error  11/27/2017       Auto   \n",
       "1  33985796     75740424               Crime  10/03/2018       Home   \n",
       "2  53522022     30308357  Other driver error  02/02/2018       Auto   \n",
       "3  13015401     47830476      Natural causes  06/17/2018       Auto   \n",
       "4  22890252     19269962               Crime  01/13/2018       Auto   \n",
       "\n",
       "  police_report     claim_type claim_amount  total_policy_claims fraudulent  \n",
       "0            No  Material only        $2980                  1.0         No  \n",
       "1       Unknown  Material only        $2980                  3.0         No  \n",
       "2            No  Material only      $3369.5                  1.0        Yes  \n",
       "3            No  Material only        $1680                  1.0         No  \n",
       "4            No  Material only        $2680                  1.0         No  "
      ]
     },
     "execution_count": 383,
     "metadata": {},
     "output_type": "execute_result"
    }
   ],
   "source": [
    "Claims.head()"
   ]
  },
  {
   "cell_type": "code",
   "execution_count": 384,
   "id": "2d64c0d0-11f4-4aa7-acd6-b9a39234ef07",
   "metadata": {},
   "outputs": [
    {
     "data": {
      "text/plain": [
       "(1100, 10)"
      ]
     },
     "execution_count": 384,
     "metadata": {},
     "output_type": "execute_result"
    }
   ],
   "source": [
    "Claims.shape"
   ]
  },
  {
   "cell_type": "code",
   "execution_count": 385,
   "id": "36bffb3d-a1b9-440d-a886-767180ca97a1",
   "metadata": {},
   "outputs": [
    {
     "data": {
      "text/html": [
       "<div>\n",
       "<style scoped>\n",
       "    .dataframe tbody tr th:only-of-type {\n",
       "        vertical-align: middle;\n",
       "    }\n",
       "\n",
       "    .dataframe tbody tr th {\n",
       "        vertical-align: top;\n",
       "    }\n",
       "\n",
       "    .dataframe thead th {\n",
       "        text-align: right;\n",
       "    }\n",
       "</style>\n",
       "<table border=\"1\" class=\"dataframe\">\n",
       "  <thead>\n",
       "    <tr style=\"text-align: right;\">\n",
       "      <th></th>\n",
       "      <th>CUST_ID</th>\n",
       "      <th>gender</th>\n",
       "      <th>DateOfBirth</th>\n",
       "      <th>State</th>\n",
       "      <th>Contact</th>\n",
       "      <th>Segment</th>\n",
       "    </tr>\n",
       "  </thead>\n",
       "  <tbody>\n",
       "    <tr>\n",
       "      <th>0</th>\n",
       "      <td>21868593</td>\n",
       "      <td>Female</td>\n",
       "      <td>12-Jan-79</td>\n",
       "      <td>VT</td>\n",
       "      <td>789-916-8172</td>\n",
       "      <td>Platinum</td>\n",
       "    </tr>\n",
       "    <tr>\n",
       "      <th>1</th>\n",
       "      <td>75740424</td>\n",
       "      <td>Female</td>\n",
       "      <td>13-Jan-70</td>\n",
       "      <td>ME</td>\n",
       "      <td>265-543-1264</td>\n",
       "      <td>Silver</td>\n",
       "    </tr>\n",
       "    <tr>\n",
       "      <th>2</th>\n",
       "      <td>30308357</td>\n",
       "      <td>Female</td>\n",
       "      <td>11-Mar-84</td>\n",
       "      <td>TN</td>\n",
       "      <td>798-631-4758</td>\n",
       "      <td>Silver</td>\n",
       "    </tr>\n",
       "    <tr>\n",
       "      <th>3</th>\n",
       "      <td>47830476</td>\n",
       "      <td>Female</td>\n",
       "      <td>01-May-86</td>\n",
       "      <td>MA</td>\n",
       "      <td>413-187-7945</td>\n",
       "      <td>Silver</td>\n",
       "    </tr>\n",
       "    <tr>\n",
       "      <th>4</th>\n",
       "      <td>19269962</td>\n",
       "      <td>Male</td>\n",
       "      <td>13-May-77</td>\n",
       "      <td>NV</td>\n",
       "      <td>956-871-8691</td>\n",
       "      <td>Gold</td>\n",
       "    </tr>\n",
       "  </tbody>\n",
       "</table>\n",
       "</div>"
      ],
      "text/plain": [
       "    CUST_ID  gender DateOfBirth State       Contact   Segment\n",
       "0  21868593  Female   12-Jan-79    VT  789-916-8172  Platinum\n",
       "1  75740424  Female   13-Jan-70    ME  265-543-1264    Silver\n",
       "2  30308357  Female   11-Mar-84    TN  798-631-4758    Silver\n",
       "3  47830476  Female   01-May-86    MA  413-187-7945    Silver\n",
       "4  19269962    Male   13-May-77    NV  956-871-8691      Gold"
      ]
     },
     "execution_count": 385,
     "metadata": {},
     "output_type": "execute_result"
    }
   ],
   "source": [
    "Cust_demo.head()"
   ]
  },
  {
   "cell_type": "code",
   "execution_count": 386,
   "id": "b3fcabbc-ddee-4146-9d25-8df9d0dd0b3b",
   "metadata": {},
   "outputs": [
    {
     "data": {
      "text/plain": [
       "(1085, 6)"
      ]
     },
     "execution_count": 386,
     "metadata": {},
     "output_type": "execute_result"
    }
   ],
   "source": [
    "Cust_demo.shape"
   ]
  },
  {
   "cell_type": "markdown",
   "id": "6692b506-b6d9-4da3-a046-bdbb99a3c38b",
   "metadata": {},
   "source": [
    "## 1. Import claims_data.csv and cust_data.csv which is provided to you and \n",
    "## combine the two datasets appropriately to create a 360-degree view of the data. Use the same for the subsequent questions."
   ]
  },
  {
   "cell_type": "code",
   "execution_count": 387,
   "id": "9f90c298-7a2c-48b5-8739-b8ef2f512670",
   "metadata": {},
   "outputs": [],
   "source": [
    "Data_360 = pd.merge(left = Claims , right = Cust_demo , left_on = 'customer_id', right_on = 'CUST_ID', how = 'left')"
   ]
  },
  {
   "cell_type": "code",
   "execution_count": 388,
   "id": "8f0048b5-b7eb-47d6-b186-2463d8121475",
   "metadata": {},
   "outputs": [
    {
     "data": {
      "text/plain": [
       "(1100, 16)"
      ]
     },
     "execution_count": 388,
     "metadata": {},
     "output_type": "execute_result"
    }
   ],
   "source": [
    "Data_360.shape"
   ]
  },
  {
   "cell_type": "code",
   "execution_count": 389,
   "id": "c46c239b-db63-45e4-85b6-eade9c6980d8",
   "metadata": {},
   "outputs": [
    {
     "data": {
      "text/html": [
       "<div>\n",
       "<style scoped>\n",
       "    .dataframe tbody tr th:only-of-type {\n",
       "        vertical-align: middle;\n",
       "    }\n",
       "\n",
       "    .dataframe tbody tr th {\n",
       "        vertical-align: top;\n",
       "    }\n",
       "\n",
       "    .dataframe thead th {\n",
       "        text-align: right;\n",
       "    }\n",
       "</style>\n",
       "<table border=\"1\" class=\"dataframe\">\n",
       "  <thead>\n",
       "    <tr style=\"text-align: right;\">\n",
       "      <th></th>\n",
       "      <th>claim_id</th>\n",
       "      <th>customer_id</th>\n",
       "      <th>incident_cause</th>\n",
       "      <th>claim_date</th>\n",
       "      <th>claim_area</th>\n",
       "      <th>police_report</th>\n",
       "      <th>claim_type</th>\n",
       "      <th>claim_amount</th>\n",
       "      <th>total_policy_claims</th>\n",
       "      <th>fraudulent</th>\n",
       "      <th>CUST_ID</th>\n",
       "      <th>gender</th>\n",
       "      <th>DateOfBirth</th>\n",
       "      <th>State</th>\n",
       "      <th>Contact</th>\n",
       "      <th>Segment</th>\n",
       "    </tr>\n",
       "  </thead>\n",
       "  <tbody>\n",
       "    <tr>\n",
       "      <th>0</th>\n",
       "      <td>54004764</td>\n",
       "      <td>21868593</td>\n",
       "      <td>Driver error</td>\n",
       "      <td>11/27/2017</td>\n",
       "      <td>Auto</td>\n",
       "      <td>No</td>\n",
       "      <td>Material only</td>\n",
       "      <td>$2980</td>\n",
       "      <td>1.0</td>\n",
       "      <td>No</td>\n",
       "      <td>21868593.0</td>\n",
       "      <td>Female</td>\n",
       "      <td>12-Jan-79</td>\n",
       "      <td>VT</td>\n",
       "      <td>789-916-8172</td>\n",
       "      <td>Platinum</td>\n",
       "    </tr>\n",
       "    <tr>\n",
       "      <th>1</th>\n",
       "      <td>33985796</td>\n",
       "      <td>75740424</td>\n",
       "      <td>Crime</td>\n",
       "      <td>10/03/2018</td>\n",
       "      <td>Home</td>\n",
       "      <td>Unknown</td>\n",
       "      <td>Material only</td>\n",
       "      <td>$2980</td>\n",
       "      <td>3.0</td>\n",
       "      <td>No</td>\n",
       "      <td>75740424.0</td>\n",
       "      <td>Female</td>\n",
       "      <td>13-Jan-70</td>\n",
       "      <td>ME</td>\n",
       "      <td>265-543-1264</td>\n",
       "      <td>Silver</td>\n",
       "    </tr>\n",
       "  </tbody>\n",
       "</table>\n",
       "</div>"
      ],
      "text/plain": [
       "   claim_id  customer_id incident_cause  claim_date claim_area police_report  \\\n",
       "0  54004764     21868593   Driver error  11/27/2017       Auto            No   \n",
       "1  33985796     75740424          Crime  10/03/2018       Home       Unknown   \n",
       "\n",
       "      claim_type claim_amount  total_policy_claims fraudulent     CUST_ID  \\\n",
       "0  Material only        $2980                  1.0         No  21868593.0   \n",
       "1  Material only        $2980                  3.0         No  75740424.0   \n",
       "\n",
       "   gender DateOfBirth State       Contact   Segment  \n",
       "0  Female   12-Jan-79    VT  789-916-8172  Platinum  \n",
       "1  Female   13-Jan-70    ME  265-543-1264    Silver  "
      ]
     },
     "execution_count": 389,
     "metadata": {},
     "output_type": "execute_result"
    }
   ],
   "source": [
    "Data_360.head(2)"
   ]
  },
  {
   "cell_type": "code",
   "execution_count": 390,
   "id": "858186e5-1ce9-4711-a2a5-1fd26d2e2d31",
   "metadata": {},
   "outputs": [
    {
     "name": "stdout",
     "output_type": "stream",
     "text": [
      "<class 'pandas.core.frame.DataFrame'>\n",
      "RangeIndex: 1100 entries, 0 to 1099\n",
      "Data columns (total 16 columns):\n",
      " #   Column               Non-Null Count  Dtype  \n",
      "---  ------               --------------  -----  \n",
      " 0   claim_id             1100 non-null   int64  \n",
      " 1   customer_id          1100 non-null   int64  \n",
      " 2   incident_cause       1100 non-null   object \n",
      " 3   claim_date           1100 non-null   object \n",
      " 4   claim_area           1100 non-null   object \n",
      " 5   police_report        1100 non-null   object \n",
      " 6   claim_type           1100 non-null   object \n",
      " 7   claim_amount         1035 non-null   object \n",
      " 8   total_policy_claims  1090 non-null   float64\n",
      " 9   fraudulent           1100 non-null   object \n",
      " 10  CUST_ID              1085 non-null   float64\n",
      " 11  gender               1085 non-null   object \n",
      " 12  DateOfBirth          1085 non-null   object \n",
      " 13  State                1085 non-null   object \n",
      " 14  Contact              1085 non-null   object \n",
      " 15  Segment              1085 non-null   object \n",
      "dtypes: float64(2), int64(2), object(12)\n",
      "memory usage: 137.6+ KB\n"
     ]
    }
   ],
   "source": [
    "Data_360.info()"
   ]
  },
  {
   "cell_type": "code",
   "execution_count": 391,
   "id": "5883b836-7a85-46ec-bc4c-408a6cf92d56",
   "metadata": {},
   "outputs": [],
   "source": [
    "Data_360 = Data_360.drop('CUST_ID', axis = 1)"
   ]
  },
  {
   "cell_type": "code",
   "execution_count": 392,
   "id": "e1727e31-033b-46fc-bc94-e3660fb47061",
   "metadata": {},
   "outputs": [
    {
     "data": {
      "text/plain": [
       "(1100, 15)"
      ]
     },
     "execution_count": 392,
     "metadata": {},
     "output_type": "execute_result"
    }
   ],
   "source": [
    "Data_360.shape"
   ]
  },
  {
   "cell_type": "code",
   "execution_count": 393,
   "id": "912917e4-5361-4d8a-b481-da283babb599",
   "metadata": {},
   "outputs": [],
   "source": [
    "Data_360= Data_360.loc[:,['claim_id','customer_id','incident_cause','claim_date','claim_area','police_report','claim_type','claim_amount',\n",
    "                          'total_policy_claims','fraudulent','gender','DateOfBirth','State','Contact','Segment']]"
   ]
  },
  {
   "cell_type": "code",
   "execution_count": 394,
   "id": "65ee53ea-34eb-4bad-b962-9ddf1d710693",
   "metadata": {},
   "outputs": [
    {
     "data": {
      "text/html": [
       "<div>\n",
       "<style scoped>\n",
       "    .dataframe tbody tr th:only-of-type {\n",
       "        vertical-align: middle;\n",
       "    }\n",
       "\n",
       "    .dataframe tbody tr th {\n",
       "        vertical-align: top;\n",
       "    }\n",
       "\n",
       "    .dataframe thead th {\n",
       "        text-align: right;\n",
       "    }\n",
       "</style>\n",
       "<table border=\"1\" class=\"dataframe\">\n",
       "  <thead>\n",
       "    <tr style=\"text-align: right;\">\n",
       "      <th></th>\n",
       "      <th>claim_id</th>\n",
       "      <th>customer_id</th>\n",
       "      <th>incident_cause</th>\n",
       "      <th>claim_date</th>\n",
       "      <th>claim_area</th>\n",
       "      <th>police_report</th>\n",
       "      <th>claim_type</th>\n",
       "      <th>claim_amount</th>\n",
       "      <th>total_policy_claims</th>\n",
       "      <th>fraudulent</th>\n",
       "      <th>gender</th>\n",
       "      <th>DateOfBirth</th>\n",
       "      <th>State</th>\n",
       "      <th>Contact</th>\n",
       "      <th>Segment</th>\n",
       "    </tr>\n",
       "  </thead>\n",
       "  <tbody>\n",
       "    <tr>\n",
       "      <th>0</th>\n",
       "      <td>54004764</td>\n",
       "      <td>21868593</td>\n",
       "      <td>Driver error</td>\n",
       "      <td>11/27/2017</td>\n",
       "      <td>Auto</td>\n",
       "      <td>No</td>\n",
       "      <td>Material only</td>\n",
       "      <td>$2980</td>\n",
       "      <td>1.0</td>\n",
       "      <td>No</td>\n",
       "      <td>Female</td>\n",
       "      <td>12-Jan-79</td>\n",
       "      <td>VT</td>\n",
       "      <td>789-916-8172</td>\n",
       "      <td>Platinum</td>\n",
       "    </tr>\n",
       "    <tr>\n",
       "      <th>1</th>\n",
       "      <td>33985796</td>\n",
       "      <td>75740424</td>\n",
       "      <td>Crime</td>\n",
       "      <td>10/03/2018</td>\n",
       "      <td>Home</td>\n",
       "      <td>Unknown</td>\n",
       "      <td>Material only</td>\n",
       "      <td>$2980</td>\n",
       "      <td>3.0</td>\n",
       "      <td>No</td>\n",
       "      <td>Female</td>\n",
       "      <td>13-Jan-70</td>\n",
       "      <td>ME</td>\n",
       "      <td>265-543-1264</td>\n",
       "      <td>Silver</td>\n",
       "    </tr>\n",
       "  </tbody>\n",
       "</table>\n",
       "</div>"
      ],
      "text/plain": [
       "   claim_id  customer_id incident_cause  claim_date claim_area police_report  \\\n",
       "0  54004764     21868593   Driver error  11/27/2017       Auto            No   \n",
       "1  33985796     75740424          Crime  10/03/2018       Home       Unknown   \n",
       "\n",
       "      claim_type claim_amount  total_policy_claims fraudulent  gender  \\\n",
       "0  Material only        $2980                  1.0         No  Female   \n",
       "1  Material only        $2980                  3.0         No  Female   \n",
       "\n",
       "  DateOfBirth State       Contact   Segment  \n",
       "0   12-Jan-79    VT  789-916-8172  Platinum  \n",
       "1   13-Jan-70    ME  265-543-1264    Silver  "
      ]
     },
     "execution_count": 394,
     "metadata": {},
     "output_type": "execute_result"
    }
   ],
   "source": [
    "Data_360.head(2)"
   ]
  },
  {
   "cell_type": "markdown",
   "id": "8ef108b4-9172-4060-a4dd-bd7e143fe0a4",
   "metadata": {},
   "source": [
    "## 2. Perform a data audit for the datatypes and find out if there are any mismatch within the current datatypes of the columns and their business significance.\n",
    "\n"
   ]
  },
  {
   "cell_type": "code",
   "execution_count": 395,
   "id": "79357521-dfac-4335-b7b6-7cd34d99d5e7",
   "metadata": {},
   "outputs": [
    {
     "data": {
      "text/plain": [
       "(1100, 15)"
      ]
     },
     "execution_count": 395,
     "metadata": {},
     "output_type": "execute_result"
    }
   ],
   "source": [
    "Data_360.shape"
   ]
  },
  {
   "cell_type": "code",
   "execution_count": 396,
   "id": "6eaabedb-b4f5-4a46-a228-346d0110e776",
   "metadata": {},
   "outputs": [
    {
     "name": "stdout",
     "output_type": "stream",
     "text": [
      "<class 'pandas.core.frame.DataFrame'>\n",
      "RangeIndex: 1100 entries, 0 to 1099\n",
      "Data columns (total 15 columns):\n",
      " #   Column               Non-Null Count  Dtype  \n",
      "---  ------               --------------  -----  \n",
      " 0   claim_id             1100 non-null   int64  \n",
      " 1   customer_id          1100 non-null   int64  \n",
      " 2   incident_cause       1100 non-null   object \n",
      " 3   claim_date           1100 non-null   object \n",
      " 4   claim_area           1100 non-null   object \n",
      " 5   police_report        1100 non-null   object \n",
      " 6   claim_type           1100 non-null   object \n",
      " 7   claim_amount         1035 non-null   object \n",
      " 8   total_policy_claims  1090 non-null   float64\n",
      " 9   fraudulent           1100 non-null   object \n",
      " 10  gender               1085 non-null   object \n",
      " 11  DateOfBirth          1085 non-null   object \n",
      " 12  State                1085 non-null   object \n",
      " 13  Contact              1085 non-null   object \n",
      " 14  Segment              1085 non-null   object \n",
      "dtypes: float64(1), int64(2), object(12)\n",
      "memory usage: 129.0+ KB\n"
     ]
    }
   ],
   "source": [
    "Data_360.info()"
   ]
  },
  {
   "cell_type": "code",
   "execution_count": 397,
   "id": "90da4693-36e1-4374-9410-06866e847458",
   "metadata": {},
   "outputs": [],
   "source": [
    "Data_360['Claim_date'] = pd.to_datetime(Data_360['claim_date'],format='%m/%d/%Y')"
   ]
  },
  {
   "cell_type": "code",
   "execution_count": 398,
   "id": "3e5e1a60-cd0e-4fea-b2af-cd11658b5a06",
   "metadata": {},
   "outputs": [],
   "source": [
    "Data_360[\"Contact\"] = Data_360['Contact'].str.replace(\"-\",'')\n",
    "Data_360['Contact']  = Data_360['Contact'].astype('str')"
   ]
  },
  {
   "cell_type": "code",
   "execution_count": 399,
   "id": "98ca5688-2f55-48dd-9f68-ee36ba167445",
   "metadata": {},
   "outputs": [],
   "source": [
    "Data_360['claim_id'] = Data_360['claim_id'].astype('object')\n",
    "Data_360['customer_id'] = Data_360['customer_id'].astype('object')"
   ]
  },
  {
   "cell_type": "code",
   "execution_count": 400,
   "id": "a56f63e5-fa2c-47cb-9899-75635c25f80a",
   "metadata": {},
   "outputs": [
    {
     "data": {
      "text/plain": [
       "claim_id                       object\n",
       "customer_id                    object\n",
       "incident_cause                 object\n",
       "claim_date                     object\n",
       "claim_area                     object\n",
       "police_report                  object\n",
       "claim_type                     object\n",
       "claim_amount                   object\n",
       "total_policy_claims           float64\n",
       "fraudulent                     object\n",
       "gender                         object\n",
       "DateOfBirth                    object\n",
       "State                          object\n",
       "Contact                        object\n",
       "Segment                        object\n",
       "Claim_date             datetime64[ns]\n",
       "dtype: object"
      ]
     },
     "execution_count": 400,
     "metadata": {},
     "output_type": "execute_result"
    }
   ],
   "source": [
    "Data_360.dtypes"
   ]
  },
  {
   "cell_type": "code",
   "execution_count": 401,
   "id": "d9ea6864-3d77-4db6-8bf4-6af8a6eb58c2",
   "metadata": {},
   "outputs": [
    {
     "data": {
      "text/html": [
       "<div>\n",
       "<style scoped>\n",
       "    .dataframe tbody tr th:only-of-type {\n",
       "        vertical-align: middle;\n",
       "    }\n",
       "\n",
       "    .dataframe tbody tr th {\n",
       "        vertical-align: top;\n",
       "    }\n",
       "\n",
       "    .dataframe thead th {\n",
       "        text-align: right;\n",
       "    }\n",
       "</style>\n",
       "<table border=\"1\" class=\"dataframe\">\n",
       "  <thead>\n",
       "    <tr style=\"text-align: right;\">\n",
       "      <th></th>\n",
       "      <th>claim_id</th>\n",
       "      <th>customer_id</th>\n",
       "      <th>incident_cause</th>\n",
       "      <th>claim_date</th>\n",
       "      <th>claim_area</th>\n",
       "      <th>police_report</th>\n",
       "      <th>claim_type</th>\n",
       "      <th>claim_amount</th>\n",
       "      <th>total_policy_claims</th>\n",
       "      <th>fraudulent</th>\n",
       "      <th>gender</th>\n",
       "      <th>DateOfBirth</th>\n",
       "      <th>State</th>\n",
       "      <th>Contact</th>\n",
       "      <th>Segment</th>\n",
       "      <th>Claim_date</th>\n",
       "    </tr>\n",
       "  </thead>\n",
       "  <tbody>\n",
       "    <tr>\n",
       "      <th>0</th>\n",
       "      <td>54004764</td>\n",
       "      <td>21868593</td>\n",
       "      <td>Driver error</td>\n",
       "      <td>11/27/2017</td>\n",
       "      <td>Auto</td>\n",
       "      <td>No</td>\n",
       "      <td>Material only</td>\n",
       "      <td>$2980</td>\n",
       "      <td>1.0</td>\n",
       "      <td>No</td>\n",
       "      <td>Female</td>\n",
       "      <td>12-Jan-79</td>\n",
       "      <td>VT</td>\n",
       "      <td>7899168172</td>\n",
       "      <td>Platinum</td>\n",
       "      <td>2017-11-27</td>\n",
       "    </tr>\n",
       "    <tr>\n",
       "      <th>1</th>\n",
       "      <td>33985796</td>\n",
       "      <td>75740424</td>\n",
       "      <td>Crime</td>\n",
       "      <td>10/03/2018</td>\n",
       "      <td>Home</td>\n",
       "      <td>Unknown</td>\n",
       "      <td>Material only</td>\n",
       "      <td>$2980</td>\n",
       "      <td>3.0</td>\n",
       "      <td>No</td>\n",
       "      <td>Female</td>\n",
       "      <td>13-Jan-70</td>\n",
       "      <td>ME</td>\n",
       "      <td>2655431264</td>\n",
       "      <td>Silver</td>\n",
       "      <td>2018-10-03</td>\n",
       "    </tr>\n",
       "  </tbody>\n",
       "</table>\n",
       "</div>"
      ],
      "text/plain": [
       "   claim_id customer_id incident_cause  claim_date claim_area police_report  \\\n",
       "0  54004764    21868593   Driver error  11/27/2017       Auto            No   \n",
       "1  33985796    75740424          Crime  10/03/2018       Home       Unknown   \n",
       "\n",
       "      claim_type claim_amount  total_policy_claims fraudulent  gender  \\\n",
       "0  Material only        $2980                  1.0         No  Female   \n",
       "1  Material only        $2980                  3.0         No  Female   \n",
       "\n",
       "  DateOfBirth State     Contact   Segment Claim_date  \n",
       "0   12-Jan-79    VT  7899168172  Platinum 2017-11-27  \n",
       "1   13-Jan-70    ME  2655431264    Silver 2018-10-03  "
      ]
     },
     "execution_count": 401,
     "metadata": {},
     "output_type": "execute_result"
    }
   ],
   "source": [
    "Data_360.head(2)"
   ]
  },
  {
   "cell_type": "code",
   "execution_count": 402,
   "id": "c54ca92f-9adf-41d2-b43a-b8a83d97bd91",
   "metadata": {},
   "outputs": [
    {
     "name": "stdout",
     "output_type": "stream",
     "text": [
      "<class 'pandas.core.frame.DataFrame'>\n",
      "RangeIndex: 1100 entries, 0 to 1099\n",
      "Data columns (total 16 columns):\n",
      " #   Column               Non-Null Count  Dtype         \n",
      "---  ------               --------------  -----         \n",
      " 0   claim_id             1100 non-null   object        \n",
      " 1   customer_id          1100 non-null   object        \n",
      " 2   incident_cause       1100 non-null   object        \n",
      " 3   claim_date           1100 non-null   object        \n",
      " 4   claim_area           1100 non-null   object        \n",
      " 5   police_report        1100 non-null   object        \n",
      " 6   claim_type           1100 non-null   object        \n",
      " 7   claim_amount         1035 non-null   object        \n",
      " 8   total_policy_claims  1090 non-null   float64       \n",
      " 9   fraudulent           1100 non-null   object        \n",
      " 10  gender               1085 non-null   object        \n",
      " 11  DateOfBirth          1085 non-null   object        \n",
      " 12  State                1085 non-null   object        \n",
      " 13  Contact              1100 non-null   object        \n",
      " 14  Segment              1085 non-null   object        \n",
      " 15  Claim_date           1100 non-null   datetime64[ns]\n",
      "dtypes: datetime64[ns](1), float64(1), object(14)\n",
      "memory usage: 137.6+ KB\n"
     ]
    }
   ],
   "source": [
    "Data_360.info()"
   ]
  },
  {
   "cell_type": "markdown",
   "id": "60c23cc0-8bcf-4d87-953d-f77d8fe560a5",
   "metadata": {},
   "source": [
    "## 3. Convert the column claim_amount to numeric. Use the appropriate modules/attributes to remove the $ sign."
   ]
  },
  {
   "cell_type": "code",
   "execution_count": 403,
   "id": "28964a5f-aac1-4084-a0d3-fd91739f708e",
   "metadata": {},
   "outputs": [],
   "source": [
    "Data_360['claim_amount'] = Data_360['claim_amount'].str.replace('$','')\n",
    "Data_360['claim_amount']  = Data_360['claim_amount'].astype('float64')"
   ]
  },
  {
   "cell_type": "code",
   "execution_count": 404,
   "id": "f25569df-2c66-49d8-8cb1-6f1446d00f81",
   "metadata": {},
   "outputs": [
    {
     "data": {
      "text/html": [
       "<div>\n",
       "<style scoped>\n",
       "    .dataframe tbody tr th:only-of-type {\n",
       "        vertical-align: middle;\n",
       "    }\n",
       "\n",
       "    .dataframe tbody tr th {\n",
       "        vertical-align: top;\n",
       "    }\n",
       "\n",
       "    .dataframe thead th {\n",
       "        text-align: right;\n",
       "    }\n",
       "</style>\n",
       "<table border=\"1\" class=\"dataframe\">\n",
       "  <thead>\n",
       "    <tr style=\"text-align: right;\">\n",
       "      <th></th>\n",
       "      <th>claim_id</th>\n",
       "      <th>customer_id</th>\n",
       "      <th>incident_cause</th>\n",
       "      <th>claim_date</th>\n",
       "      <th>claim_area</th>\n",
       "      <th>police_report</th>\n",
       "      <th>claim_type</th>\n",
       "      <th>claim_amount</th>\n",
       "      <th>total_policy_claims</th>\n",
       "      <th>fraudulent</th>\n",
       "      <th>gender</th>\n",
       "      <th>DateOfBirth</th>\n",
       "      <th>State</th>\n",
       "      <th>Contact</th>\n",
       "      <th>Segment</th>\n",
       "      <th>Claim_date</th>\n",
       "    </tr>\n",
       "  </thead>\n",
       "  <tbody>\n",
       "    <tr>\n",
       "      <th>0</th>\n",
       "      <td>54004764</td>\n",
       "      <td>21868593</td>\n",
       "      <td>Driver error</td>\n",
       "      <td>11/27/2017</td>\n",
       "      <td>Auto</td>\n",
       "      <td>No</td>\n",
       "      <td>Material only</td>\n",
       "      <td>2980.0</td>\n",
       "      <td>1.0</td>\n",
       "      <td>No</td>\n",
       "      <td>Female</td>\n",
       "      <td>12-Jan-79</td>\n",
       "      <td>VT</td>\n",
       "      <td>7899168172</td>\n",
       "      <td>Platinum</td>\n",
       "      <td>2017-11-27</td>\n",
       "    </tr>\n",
       "    <tr>\n",
       "      <th>1</th>\n",
       "      <td>33985796</td>\n",
       "      <td>75740424</td>\n",
       "      <td>Crime</td>\n",
       "      <td>10/03/2018</td>\n",
       "      <td>Home</td>\n",
       "      <td>Unknown</td>\n",
       "      <td>Material only</td>\n",
       "      <td>2980.0</td>\n",
       "      <td>3.0</td>\n",
       "      <td>No</td>\n",
       "      <td>Female</td>\n",
       "      <td>13-Jan-70</td>\n",
       "      <td>ME</td>\n",
       "      <td>2655431264</td>\n",
       "      <td>Silver</td>\n",
       "      <td>2018-10-03</td>\n",
       "    </tr>\n",
       "  </tbody>\n",
       "</table>\n",
       "</div>"
      ],
      "text/plain": [
       "   claim_id customer_id incident_cause  claim_date claim_area police_report  \\\n",
       "0  54004764    21868593   Driver error  11/27/2017       Auto            No   \n",
       "1  33985796    75740424          Crime  10/03/2018       Home       Unknown   \n",
       "\n",
       "      claim_type  claim_amount  total_policy_claims fraudulent  gender  \\\n",
       "0  Material only        2980.0                  1.0         No  Female   \n",
       "1  Material only        2980.0                  3.0         No  Female   \n",
       "\n",
       "  DateOfBirth State     Contact   Segment Claim_date  \n",
       "0   12-Jan-79    VT  7899168172  Platinum 2017-11-27  \n",
       "1   13-Jan-70    ME  2655431264    Silver 2018-10-03  "
      ]
     },
     "execution_count": 404,
     "metadata": {},
     "output_type": "execute_result"
    }
   ],
   "source": [
    "Data_360.head(2)"
   ]
  },
  {
   "cell_type": "code",
   "execution_count": 405,
   "id": "1944b0de-5012-4318-a3db-03b425cc4404",
   "metadata": {},
   "outputs": [
    {
     "name": "stdout",
     "output_type": "stream",
     "text": [
      "<class 'pandas.core.frame.DataFrame'>\n",
      "RangeIndex: 1100 entries, 0 to 1099\n",
      "Data columns (total 16 columns):\n",
      " #   Column               Non-Null Count  Dtype         \n",
      "---  ------               --------------  -----         \n",
      " 0   claim_id             1100 non-null   object        \n",
      " 1   customer_id          1100 non-null   object        \n",
      " 2   incident_cause       1100 non-null   object        \n",
      " 3   claim_date           1100 non-null   object        \n",
      " 4   claim_area           1100 non-null   object        \n",
      " 5   police_report        1100 non-null   object        \n",
      " 6   claim_type           1100 non-null   object        \n",
      " 7   claim_amount         1035 non-null   float64       \n",
      " 8   total_policy_claims  1090 non-null   float64       \n",
      " 9   fraudulent           1100 non-null   object        \n",
      " 10  gender               1085 non-null   object        \n",
      " 11  DateOfBirth          1085 non-null   object        \n",
      " 12  State                1085 non-null   object        \n",
      " 13  Contact              1100 non-null   object        \n",
      " 14  Segment              1085 non-null   object        \n",
      " 15  Claim_date           1100 non-null   datetime64[ns]\n",
      "dtypes: datetime64[ns](1), float64(2), object(13)\n",
      "memory usage: 137.6+ KB\n"
     ]
    }
   ],
   "source": [
    "Data_360.info()"
   ]
  },
  {
   "cell_type": "code",
   "execution_count": 406,
   "id": "151ffd6b-05bb-4de9-92f0-2d7be46c5af0",
   "metadata": {},
   "outputs": [
    {
     "data": {
      "text/plain": [
       "(1100, 16)"
      ]
     },
     "execution_count": 406,
     "metadata": {},
     "output_type": "execute_result"
    }
   ],
   "source": [
    "Data_360.shape"
   ]
  },
  {
   "cell_type": "markdown",
   "id": "5875ec2d-6e5b-4e41-92fd-0cf0bb902c37",
   "metadata": {},
   "source": [
    "## 4. Of all the injury claims, some of them have gone unreported with the police. Create an alert flag (1,0) for all such claims"
   ]
  },
  {
   "cell_type": "code",
   "execution_count": 407,
   "id": "1e277cc8-c9fe-4228-a52b-b43ae0d7af01",
   "metadata": {},
   "outputs": [
    {
     "data": {
      "text/plain": [
       "array(['Material only', 'Injury only', 'Material and injury'],\n",
       "      dtype=object)"
      ]
     },
     "execution_count": 407,
     "metadata": {},
     "output_type": "execute_result"
    }
   ],
   "source": [
    "Data_360['claim_type'].unique()"
   ]
  },
  {
   "cell_type": "code",
   "execution_count": 408,
   "id": "7b19b10e-4846-4196-a66f-0897b7caf54e",
   "metadata": {},
   "outputs": [
    {
     "data": {
      "text/plain": [
       "array(['No', 'Unknown', 'Yes'], dtype=object)"
      ]
     },
     "execution_count": 408,
     "metadata": {},
     "output_type": "execute_result"
    }
   ],
   "source": [
    "Data_360['police_report'].unique()"
   ]
  },
  {
   "cell_type": "code",
   "execution_count": 409,
   "id": "edd86e35-f38b-4f91-99d8-0110e18d29b3",
   "metadata": {},
   "outputs": [],
   "source": [
    "def create_flag(Data_360x):\n",
    "    if((Data_360x['claim_type'] =='Injury only')|(Data_360x['claim_type']=='Material and injury')):\n",
    "        if((Data_360x['police_report'] =='No')|(Data_360x['police_report']=='Unknown')):\n",
    "            return (1)\n",
    "        else:\n",
    "            return(0)\n",
    "    else:\n",
    "        return(0)"
   ]
  },
  {
   "cell_type": "code",
   "execution_count": 410,
   "id": "d9769c50-d09c-45d5-aab9-4d86c2a7d4d1",
   "metadata": {},
   "outputs": [],
   "source": [
    "Data_360['flag'] = Data_360.apply(lambda Data_360x: create_flag(Data_360x),axis=1)"
   ]
  },
  {
   "cell_type": "code",
   "execution_count": 411,
   "id": "406956dc-2058-4148-885d-dadf657a1091",
   "metadata": {},
   "outputs": [
    {
     "data": {
      "text/html": [
       "<div>\n",
       "<style scoped>\n",
       "    .dataframe tbody tr th:only-of-type {\n",
       "        vertical-align: middle;\n",
       "    }\n",
       "\n",
       "    .dataframe tbody tr th {\n",
       "        vertical-align: top;\n",
       "    }\n",
       "\n",
       "    .dataframe thead th {\n",
       "        text-align: right;\n",
       "    }\n",
       "</style>\n",
       "<table border=\"1\" class=\"dataframe\">\n",
       "  <thead>\n",
       "    <tr style=\"text-align: right;\">\n",
       "      <th></th>\n",
       "      <th>claim_id</th>\n",
       "      <th>customer_id</th>\n",
       "      <th>incident_cause</th>\n",
       "      <th>claim_date</th>\n",
       "      <th>claim_area</th>\n",
       "      <th>police_report</th>\n",
       "      <th>claim_type</th>\n",
       "      <th>claim_amount</th>\n",
       "      <th>total_policy_claims</th>\n",
       "      <th>fraudulent</th>\n",
       "      <th>gender</th>\n",
       "      <th>DateOfBirth</th>\n",
       "      <th>State</th>\n",
       "      <th>Contact</th>\n",
       "      <th>Segment</th>\n",
       "      <th>Claim_date</th>\n",
       "      <th>flag</th>\n",
       "    </tr>\n",
       "  </thead>\n",
       "  <tbody>\n",
       "    <tr>\n",
       "      <th>5</th>\n",
       "      <td>24050443</td>\n",
       "      <td>21831191</td>\n",
       "      <td>Other driver error</td>\n",
       "      <td>10/04/2017</td>\n",
       "      <td>Auto</td>\n",
       "      <td>No</td>\n",
       "      <td>Injury only</td>\n",
       "      <td>38306.5</td>\n",
       "      <td>3.0</td>\n",
       "      <td>Yes</td>\n",
       "      <td>Male</td>\n",
       "      <td>17-May-77</td>\n",
       "      <td>NH</td>\n",
       "      <td>4197128513</td>\n",
       "      <td>Gold</td>\n",
       "      <td>2017-10-04</td>\n",
       "      <td>1</td>\n",
       "    </tr>\n",
       "    <tr>\n",
       "      <th>14</th>\n",
       "      <td>67257404</td>\n",
       "      <td>18288638</td>\n",
       "      <td>Other driver error</td>\n",
       "      <td>04/24/2018</td>\n",
       "      <td>Auto</td>\n",
       "      <td>Yes</td>\n",
       "      <td>Injury only</td>\n",
       "      <td>32560.0</td>\n",
       "      <td>1.0</td>\n",
       "      <td>No</td>\n",
       "      <td>Female</td>\n",
       "      <td>14-Jan-69</td>\n",
       "      <td>MI</td>\n",
       "      <td>3141351359</td>\n",
       "      <td>Platinum</td>\n",
       "      <td>2018-04-24</td>\n",
       "      <td>0</td>\n",
       "    </tr>\n",
       "    <tr>\n",
       "      <th>17</th>\n",
       "      <td>7809917</td>\n",
       "      <td>63916778</td>\n",
       "      <td>Other causes</td>\n",
       "      <td>07/22/2017</td>\n",
       "      <td>Auto</td>\n",
       "      <td>No</td>\n",
       "      <td>Injury only</td>\n",
       "      <td>17800.0</td>\n",
       "      <td>1.0</td>\n",
       "      <td>No</td>\n",
       "      <td>Male</td>\n",
       "      <td>07-Sep-66</td>\n",
       "      <td>IL</td>\n",
       "      <td>1461574572</td>\n",
       "      <td>Platinum</td>\n",
       "      <td>2017-07-22</td>\n",
       "      <td>1</td>\n",
       "    </tr>\n",
       "  </tbody>\n",
       "</table>\n",
       "</div>"
      ],
      "text/plain": [
       "    claim_id customer_id      incident_cause  claim_date claim_area  \\\n",
       "5   24050443    21831191  Other driver error  10/04/2017       Auto   \n",
       "14  67257404    18288638  Other driver error  04/24/2018       Auto   \n",
       "17   7809917    63916778        Other causes  07/22/2017       Auto   \n",
       "\n",
       "   police_report   claim_type  claim_amount  total_policy_claims fraudulent  \\\n",
       "5             No  Injury only       38306.5                  3.0        Yes   \n",
       "14           Yes  Injury only       32560.0                  1.0         No   \n",
       "17            No  Injury only       17800.0                  1.0         No   \n",
       "\n",
       "    gender DateOfBirth State     Contact   Segment Claim_date  flag  \n",
       "5     Male   17-May-77    NH  4197128513      Gold 2017-10-04     1  \n",
       "14  Female   14-Jan-69    MI  3141351359  Platinum 2018-04-24     0  \n",
       "17    Male   07-Sep-66    IL  1461574572  Platinum 2017-07-22     1  "
      ]
     },
     "execution_count": 411,
     "metadata": {},
     "output_type": "execute_result"
    }
   ],
   "source": [
    "Data_360[Data_360['claim_type']=='Injury only'].head(3)"
   ]
  },
  {
   "cell_type": "code",
   "execution_count": 412,
   "id": "f83f1a48-c116-4bee-91a8-bc94591ff81a",
   "metadata": {},
   "outputs": [
    {
     "name": "stdout",
     "output_type": "stream",
     "text": [
      "<class 'pandas.core.frame.DataFrame'>\n",
      "RangeIndex: 1100 entries, 0 to 1099\n",
      "Data columns (total 17 columns):\n",
      " #   Column               Non-Null Count  Dtype         \n",
      "---  ------               --------------  -----         \n",
      " 0   claim_id             1100 non-null   object        \n",
      " 1   customer_id          1100 non-null   object        \n",
      " 2   incident_cause       1100 non-null   object        \n",
      " 3   claim_date           1100 non-null   object        \n",
      " 4   claim_area           1100 non-null   object        \n",
      " 5   police_report        1100 non-null   object        \n",
      " 6   claim_type           1100 non-null   object        \n",
      " 7   claim_amount         1035 non-null   float64       \n",
      " 8   total_policy_claims  1090 non-null   float64       \n",
      " 9   fraudulent           1100 non-null   object        \n",
      " 10  gender               1085 non-null   object        \n",
      " 11  DateOfBirth          1085 non-null   object        \n",
      " 12  State                1085 non-null   object        \n",
      " 13  Contact              1100 non-null   object        \n",
      " 14  Segment              1085 non-null   object        \n",
      " 15  Claim_date           1100 non-null   datetime64[ns]\n",
      " 16  flag                 1100 non-null   int64         \n",
      "dtypes: datetime64[ns](1), float64(2), int64(1), object(13)\n",
      "memory usage: 146.2+ KB\n"
     ]
    }
   ],
   "source": [
    "Data_360.info()"
   ]
  },
  {
   "cell_type": "code",
   "execution_count": 413,
   "id": "3172a87a-3173-4984-b824-4b2962f782a6",
   "metadata": {},
   "outputs": [
    {
     "data": {
      "text/plain": [
       "(1100, 17)"
      ]
     },
     "execution_count": 413,
     "metadata": {},
     "output_type": "execute_result"
    }
   ],
   "source": [
    "Data_360.shape"
   ]
  },
  {
   "cell_type": "markdown",
   "id": "cbe21872-2dab-4c7e-a20a-95e30ed1a051",
   "metadata": {},
   "source": [
    "##  5. One customer can claim for insurance more than once and in each claim, multiple categories of claims can be involved. However, customer ID \n",
    "## should remain unique. Retain the most recent observation and delete any duplicated records in the data based on the customer ID column"
   ]
  },
  {
   "cell_type": "code",
   "execution_count": 414,
   "id": "ca3b331a-1cb1-4afa-b51f-13caa8889c17",
   "metadata": {},
   "outputs": [
    {
     "data": {
      "text/plain": [
       "7"
      ]
     },
     "execution_count": 414,
     "metadata": {},
     "output_type": "execute_result"
    }
   ],
   "source": [
    "Data_360['customer_id'].duplicated().sum()"
   ]
  },
  {
   "cell_type": "code",
   "execution_count": 415,
   "id": "7550b055-12f5-47ef-bc97-c591ad27f70c",
   "metadata": {},
   "outputs": [],
   "source": [
    "Data_360 = Data_360.drop_duplicates(subset='customer_id', keep='first')\n",
    "Data_360 = Data_360.reset_index()\n",
    "Data_360 = Data_360.iloc[:,1:]"
   ]
  },
  {
   "cell_type": "code",
   "execution_count": 416,
   "id": "13f6642a-84bf-48f7-9f57-2ca39b55dd0b",
   "metadata": {},
   "outputs": [
    {
     "data": {
      "text/html": [
       "<div>\n",
       "<style scoped>\n",
       "    .dataframe tbody tr th:only-of-type {\n",
       "        vertical-align: middle;\n",
       "    }\n",
       "\n",
       "    .dataframe tbody tr th {\n",
       "        vertical-align: top;\n",
       "    }\n",
       "\n",
       "    .dataframe thead th {\n",
       "        text-align: right;\n",
       "    }\n",
       "</style>\n",
       "<table border=\"1\" class=\"dataframe\">\n",
       "  <thead>\n",
       "    <tr style=\"text-align: right;\">\n",
       "      <th></th>\n",
       "      <th>claim_id</th>\n",
       "      <th>customer_id</th>\n",
       "      <th>incident_cause</th>\n",
       "      <th>claim_date</th>\n",
       "      <th>claim_area</th>\n",
       "      <th>police_report</th>\n",
       "      <th>claim_type</th>\n",
       "      <th>claim_amount</th>\n",
       "      <th>total_policy_claims</th>\n",
       "      <th>fraudulent</th>\n",
       "      <th>gender</th>\n",
       "      <th>DateOfBirth</th>\n",
       "      <th>State</th>\n",
       "      <th>Contact</th>\n",
       "      <th>Segment</th>\n",
       "      <th>Claim_date</th>\n",
       "      <th>flag</th>\n",
       "    </tr>\n",
       "  </thead>\n",
       "  <tbody>\n",
       "    <tr>\n",
       "      <th>184</th>\n",
       "      <td>69348631</td>\n",
       "      <td>154557</td>\n",
       "      <td>Driver error</td>\n",
       "      <td>04/10/2018</td>\n",
       "      <td>Auto</td>\n",
       "      <td>No</td>\n",
       "      <td>Injury only</td>\n",
       "      <td>NaN</td>\n",
       "      <td>1.0</td>\n",
       "      <td>Yes</td>\n",
       "      <td>Female</td>\n",
       "      <td>23-May-78</td>\n",
       "      <td>DE</td>\n",
       "      <td>9628791238</td>\n",
       "      <td>Platinum</td>\n",
       "      <td>2018-04-10</td>\n",
       "      <td>1</td>\n",
       "    </tr>\n",
       "    <tr>\n",
       "      <th>829</th>\n",
       "      <td>40953049</td>\n",
       "      <td>263204</td>\n",
       "      <td>Other causes</td>\n",
       "      <td>04/04/2018</td>\n",
       "      <td>Auto</td>\n",
       "      <td>No</td>\n",
       "      <td>Material and injury</td>\n",
       "      <td>39192.0</td>\n",
       "      <td>1.0</td>\n",
       "      <td>Yes</td>\n",
       "      <td>Male</td>\n",
       "      <td>20-Dec-72</td>\n",
       "      <td>TX</td>\n",
       "      <td>1738926314</td>\n",
       "      <td>Silver</td>\n",
       "      <td>2018-04-04</td>\n",
       "      <td>1</td>\n",
       "    </tr>\n",
       "    <tr>\n",
       "      <th>670</th>\n",
       "      <td>45780237</td>\n",
       "      <td>287476</td>\n",
       "      <td>Natural causes</td>\n",
       "      <td>10/17/2017</td>\n",
       "      <td>Auto</td>\n",
       "      <td>Unknown</td>\n",
       "      <td>Material only</td>\n",
       "      <td>1621.5</td>\n",
       "      <td>2.0</td>\n",
       "      <td>Yes</td>\n",
       "      <td>Male</td>\n",
       "      <td>28-Jul-88</td>\n",
       "      <td>FL</td>\n",
       "      <td>3645981549</td>\n",
       "      <td>Silver</td>\n",
       "      <td>2017-10-17</td>\n",
       "      <td>0</td>\n",
       "    </tr>\n",
       "    <tr>\n",
       "      <th>821</th>\n",
       "      <td>89833962</td>\n",
       "      <td>441097</td>\n",
       "      <td>Other causes</td>\n",
       "      <td>03/21/2018</td>\n",
       "      <td>Auto</td>\n",
       "      <td>Yes</td>\n",
       "      <td>Material and injury</td>\n",
       "      <td>37040.0</td>\n",
       "      <td>1.0</td>\n",
       "      <td>No</td>\n",
       "      <td>Male</td>\n",
       "      <td>19-Aug-71</td>\n",
       "      <td>CA</td>\n",
       "      <td>1873488375</td>\n",
       "      <td>Gold</td>\n",
       "      <td>2018-03-21</td>\n",
       "      <td>0</td>\n",
       "    </tr>\n",
       "    <tr>\n",
       "      <th>505</th>\n",
       "      <td>35782742</td>\n",
       "      <td>524545</td>\n",
       "      <td>Other driver error</td>\n",
       "      <td>07/27/2018</td>\n",
       "      <td>Auto</td>\n",
       "      <td>No</td>\n",
       "      <td>Injury only</td>\n",
       "      <td>35250.0</td>\n",
       "      <td>3.0</td>\n",
       "      <td>No</td>\n",
       "      <td>Female</td>\n",
       "      <td>10-Aug-80</td>\n",
       "      <td>NC</td>\n",
       "      <td>7988625398</td>\n",
       "      <td>Gold</td>\n",
       "      <td>2018-07-27</td>\n",
       "      <td>1</td>\n",
       "    </tr>\n",
       "    <tr>\n",
       "      <th>...</th>\n",
       "      <td>...</td>\n",
       "      <td>...</td>\n",
       "      <td>...</td>\n",
       "      <td>...</td>\n",
       "      <td>...</td>\n",
       "      <td>...</td>\n",
       "      <td>...</td>\n",
       "      <td>...</td>\n",
       "      <td>...</td>\n",
       "      <td>...</td>\n",
       "      <td>...</td>\n",
       "      <td>...</td>\n",
       "      <td>...</td>\n",
       "      <td>...</td>\n",
       "      <td>...</td>\n",
       "      <td>...</td>\n",
       "      <td>...</td>\n",
       "    </tr>\n",
       "    <tr>\n",
       "      <th>691</th>\n",
       "      <td>4549014</td>\n",
       "      <td>99674324</td>\n",
       "      <td>Other causes</td>\n",
       "      <td>07/07/2018</td>\n",
       "      <td>Auto</td>\n",
       "      <td>No</td>\n",
       "      <td>Injury only</td>\n",
       "      <td>21480.0</td>\n",
       "      <td>1.0</td>\n",
       "      <td>No</td>\n",
       "      <td>Male</td>\n",
       "      <td>28-Jan-65</td>\n",
       "      <td>UT</td>\n",
       "      <td>5175624916</td>\n",
       "      <td>Silver</td>\n",
       "      <td>2018-07-07</td>\n",
       "      <td>1</td>\n",
       "    </tr>\n",
       "    <tr>\n",
       "      <th>992</th>\n",
       "      <td>35453672</td>\n",
       "      <td>99723844</td>\n",
       "      <td>Natural causes</td>\n",
       "      <td>01/06/2018</td>\n",
       "      <td>Auto</td>\n",
       "      <td>Yes</td>\n",
       "      <td>Material and injury</td>\n",
       "      <td>14360.0</td>\n",
       "      <td>1.0</td>\n",
       "      <td>No</td>\n",
       "      <td>Female</td>\n",
       "      <td>19-Jun-66</td>\n",
       "      <td>HI</td>\n",
       "      <td>4577521374</td>\n",
       "      <td>Gold</td>\n",
       "      <td>2018-01-06</td>\n",
       "      <td>0</td>\n",
       "    </tr>\n",
       "    <tr>\n",
       "      <th>68</th>\n",
       "      <td>37305754</td>\n",
       "      <td>99761663</td>\n",
       "      <td>Natural causes</td>\n",
       "      <td>04/04/2018</td>\n",
       "      <td>Auto</td>\n",
       "      <td>No</td>\n",
       "      <td>Material only</td>\n",
       "      <td>1242.0</td>\n",
       "      <td>1.0</td>\n",
       "      <td>Yes</td>\n",
       "      <td>Female</td>\n",
       "      <td>18-Nov-63</td>\n",
       "      <td>NC</td>\n",
       "      <td>6432464718</td>\n",
       "      <td>Silver</td>\n",
       "      <td>2018-04-04</td>\n",
       "      <td>0</td>\n",
       "    </tr>\n",
       "    <tr>\n",
       "      <th>929</th>\n",
       "      <td>22960702</td>\n",
       "      <td>99892000</td>\n",
       "      <td>Driver error</td>\n",
       "      <td>11/13/2017</td>\n",
       "      <td>Auto</td>\n",
       "      <td>No</td>\n",
       "      <td>Material only</td>\n",
       "      <td>2415.0</td>\n",
       "      <td>2.0</td>\n",
       "      <td>Yes</td>\n",
       "      <td>Male</td>\n",
       "      <td>08-Jun-95</td>\n",
       "      <td>OR</td>\n",
       "      <td>3952466172</td>\n",
       "      <td>Gold</td>\n",
       "      <td>2017-11-13</td>\n",
       "      <td>0</td>\n",
       "    </tr>\n",
       "    <tr>\n",
       "      <th>740</th>\n",
       "      <td>47262068</td>\n",
       "      <td>99961993</td>\n",
       "      <td>Driver error</td>\n",
       "      <td>10/23/2018</td>\n",
       "      <td>Home</td>\n",
       "      <td>No</td>\n",
       "      <td>Material only</td>\n",
       "      <td>2310.0</td>\n",
       "      <td>1.0</td>\n",
       "      <td>No</td>\n",
       "      <td>Male</td>\n",
       "      <td>10-Jun-95</td>\n",
       "      <td>AL</td>\n",
       "      <td>2349432876</td>\n",
       "      <td>Platinum</td>\n",
       "      <td>2018-10-23</td>\n",
       "      <td>0</td>\n",
       "    </tr>\n",
       "  </tbody>\n",
       "</table>\n",
       "<p>1093 rows × 17 columns</p>\n",
       "</div>"
      ],
      "text/plain": [
       "     claim_id customer_id      incident_cause  claim_date claim_area  \\\n",
       "184  69348631      154557        Driver error  04/10/2018       Auto   \n",
       "829  40953049      263204        Other causes  04/04/2018       Auto   \n",
       "670  45780237      287476      Natural causes  10/17/2017       Auto   \n",
       "821  89833962      441097        Other causes  03/21/2018       Auto   \n",
       "505  35782742      524545  Other driver error  07/27/2018       Auto   \n",
       "..        ...         ...                 ...         ...        ...   \n",
       "691   4549014    99674324        Other causes  07/07/2018       Auto   \n",
       "992  35453672    99723844      Natural causes  01/06/2018       Auto   \n",
       "68   37305754    99761663      Natural causes  04/04/2018       Auto   \n",
       "929  22960702    99892000        Driver error  11/13/2017       Auto   \n",
       "740  47262068    99961993        Driver error  10/23/2018       Home   \n",
       "\n",
       "    police_report           claim_type  claim_amount  total_policy_claims  \\\n",
       "184            No          Injury only           NaN                  1.0   \n",
       "829            No  Material and injury       39192.0                  1.0   \n",
       "670       Unknown        Material only        1621.5                  2.0   \n",
       "821           Yes  Material and injury       37040.0                  1.0   \n",
       "505            No          Injury only       35250.0                  3.0   \n",
       "..            ...                  ...           ...                  ...   \n",
       "691            No          Injury only       21480.0                  1.0   \n",
       "992           Yes  Material and injury       14360.0                  1.0   \n",
       "68             No        Material only        1242.0                  1.0   \n",
       "929            No        Material only        2415.0                  2.0   \n",
       "740            No        Material only        2310.0                  1.0   \n",
       "\n",
       "    fraudulent  gender DateOfBirth State     Contact   Segment Claim_date  \\\n",
       "184        Yes  Female   23-May-78    DE  9628791238  Platinum 2018-04-10   \n",
       "829        Yes    Male   20-Dec-72    TX  1738926314    Silver 2018-04-04   \n",
       "670        Yes    Male   28-Jul-88    FL  3645981549    Silver 2017-10-17   \n",
       "821         No    Male   19-Aug-71    CA  1873488375      Gold 2018-03-21   \n",
       "505         No  Female   10-Aug-80    NC  7988625398      Gold 2018-07-27   \n",
       "..         ...     ...         ...   ...         ...       ...        ...   \n",
       "691         No    Male   28-Jan-65    UT  5175624916    Silver 2018-07-07   \n",
       "992         No  Female   19-Jun-66    HI  4577521374      Gold 2018-01-06   \n",
       "68         Yes  Female   18-Nov-63    NC  6432464718    Silver 2018-04-04   \n",
       "929        Yes    Male   08-Jun-95    OR  3952466172      Gold 2017-11-13   \n",
       "740         No    Male   10-Jun-95    AL  2349432876  Platinum 2018-10-23   \n",
       "\n",
       "     flag  \n",
       "184     1  \n",
       "829     1  \n",
       "670     0  \n",
       "821     0  \n",
       "505     1  \n",
       "..    ...  \n",
       "691     1  \n",
       "992     0  \n",
       "68      0  \n",
       "929     0  \n",
       "740     0  \n",
       "\n",
       "[1093 rows x 17 columns]"
      ]
     },
     "execution_count": 416,
     "metadata": {},
     "output_type": "execute_result"
    }
   ],
   "source": [
    "Data_360 = Data_360.sort_values(by=['customer_id', 'claim_date'], ascending=[True, False])\n",
    "Data_360"
   ]
  },
  {
   "cell_type": "code",
   "execution_count": 417,
   "id": "72dccd3b-ef1c-4434-9a4a-74978373667d",
   "metadata": {},
   "outputs": [
    {
     "data": {
      "text/plain": [
       "(1093, 17)"
      ]
     },
     "execution_count": 417,
     "metadata": {},
     "output_type": "execute_result"
    }
   ],
   "source": [
    "Data_360.shape"
   ]
  },
  {
   "cell_type": "markdown",
   "id": "5e67e258-3d74-40f6-91eb-05c2db16b63c",
   "metadata": {},
   "source": [
    " ##6. Check for missing values and impute the missing values with an appropriate value. (mean for continuous and mode for categorical)"
   ]
  },
  {
   "cell_type": "code",
   "execution_count": 418,
   "id": "280554eb-a910-4282-b208-e09f37f838cd",
   "metadata": {},
   "outputs": [
    {
     "data": {
      "text/plain": [
       "claim_id                0\n",
       "customer_id             0\n",
       "incident_cause          0\n",
       "claim_date              0\n",
       "claim_area              0\n",
       "police_report           0\n",
       "claim_type              0\n",
       "claim_amount           65\n",
       "total_policy_claims    10\n",
       "fraudulent              0\n",
       "gender                 15\n",
       "DateOfBirth            15\n",
       "State                  15\n",
       "Contact                 0\n",
       "Segment                15\n",
       "Claim_date              0\n",
       "flag                    0\n",
       "dtype: int64"
      ]
     },
     "execution_count": 418,
     "metadata": {},
     "output_type": "execute_result"
    }
   ],
   "source": [
    "Data_360.isnull().sum()"
   ]
  },
  {
   "cell_type": "code",
   "execution_count": 419,
   "id": "42139bbf-f6d2-4cab-a18c-d680ba3e7c35",
   "metadata": {},
   "outputs": [
    {
     "name": "stdout",
     "output_type": "stream",
     "text": [
      "<class 'pandas.core.frame.DataFrame'>\n",
      "Index: 1093 entries, 184 to 740\n",
      "Data columns (total 17 columns):\n",
      " #   Column               Non-Null Count  Dtype         \n",
      "---  ------               --------------  -----         \n",
      " 0   claim_id             1093 non-null   object        \n",
      " 1   customer_id          1093 non-null   object        \n",
      " 2   incident_cause       1093 non-null   object        \n",
      " 3   claim_date           1093 non-null   object        \n",
      " 4   claim_area           1093 non-null   object        \n",
      " 5   police_report        1093 non-null   object        \n",
      " 6   claim_type           1093 non-null   object        \n",
      " 7   claim_amount         1028 non-null   float64       \n",
      " 8   total_policy_claims  1083 non-null   float64       \n",
      " 9   fraudulent           1093 non-null   object        \n",
      " 10  gender               1078 non-null   object        \n",
      " 11  DateOfBirth          1078 non-null   object        \n",
      " 12  State                1078 non-null   object        \n",
      " 13  Contact              1093 non-null   object        \n",
      " 14  Segment              1078 non-null   object        \n",
      " 15  Claim_date           1093 non-null   datetime64[ns]\n",
      " 16  flag                 1093 non-null   int64         \n",
      "dtypes: datetime64[ns](1), float64(2), int64(1), object(13)\n",
      "memory usage: 153.7+ KB\n"
     ]
    }
   ],
   "source": [
    "Data_360.info()"
   ]
  },
  {
   "cell_type": "code",
   "execution_count": 420,
   "id": "d20dfbfb-bace-4f1b-94ef-7a39217df01a",
   "metadata": {},
   "outputs": [],
   "source": [
    "Cat_col = ['gender', 'State', 'Segment', 'DateOfBirth', 'total_policy_claims']"
   ]
  },
  {
   "cell_type": "code",
   "execution_count": 421,
   "id": "6e8f76e4-b569-4808-8e85-ffa0e4301a8c",
   "metadata": {},
   "outputs": [],
   "source": [
    "for col in Cat_col:\n",
    "    mode_val= Claim_demo[col].mode().values[0]\n",
    "    Claim_demo.fillna(mode_val, inplace= True)\n"
   ]
  },
  {
   "cell_type": "code",
   "execution_count": 423,
   "id": "6f821c72-0241-452c-8ea7-94795c721d40",
   "metadata": {},
   "outputs": [
    {
     "data": {
      "text/html": [
       "<div>\n",
       "<style scoped>\n",
       "    .dataframe tbody tr th:only-of-type {\n",
       "        vertical-align: middle;\n",
       "    }\n",
       "\n",
       "    .dataframe tbody tr th {\n",
       "        vertical-align: top;\n",
       "    }\n",
       "\n",
       "    .dataframe thead th {\n",
       "        text-align: right;\n",
       "    }\n",
       "</style>\n",
       "<table border=\"1\" class=\"dataframe\">\n",
       "  <thead>\n",
       "    <tr style=\"text-align: right;\">\n",
       "      <th></th>\n",
       "      <th>claim_id</th>\n",
       "      <th>customer_id</th>\n",
       "      <th>incident_cause</th>\n",
       "      <th>claim_date</th>\n",
       "      <th>claim_area</th>\n",
       "      <th>police_report</th>\n",
       "      <th>claim_type</th>\n",
       "      <th>claim_amount</th>\n",
       "      <th>total_policy_claims</th>\n",
       "      <th>fraudulent</th>\n",
       "      <th>gender</th>\n",
       "      <th>DateOfBirth</th>\n",
       "      <th>State</th>\n",
       "      <th>Contact</th>\n",
       "      <th>Segment</th>\n",
       "      <th>Claim_date</th>\n",
       "      <th>flag</th>\n",
       "    </tr>\n",
       "  </thead>\n",
       "  <tbody>\n",
       "    <tr>\n",
       "      <th>184</th>\n",
       "      <td>69348631</td>\n",
       "      <td>154557</td>\n",
       "      <td>Driver error</td>\n",
       "      <td>04/10/2018</td>\n",
       "      <td>Auto</td>\n",
       "      <td>No</td>\n",
       "      <td>Injury only</td>\n",
       "      <td>12444.72714</td>\n",
       "      <td>1.0</td>\n",
       "      <td>Yes</td>\n",
       "      <td>Female</td>\n",
       "      <td>23-May-78</td>\n",
       "      <td>DE</td>\n",
       "      <td>9628791238</td>\n",
       "      <td>Platinum</td>\n",
       "      <td>2018-04-10</td>\n",
       "      <td>1</td>\n",
       "    </tr>\n",
       "    <tr>\n",
       "      <th>829</th>\n",
       "      <td>40953049</td>\n",
       "      <td>263204</td>\n",
       "      <td>Other causes</td>\n",
       "      <td>04/04/2018</td>\n",
       "      <td>Auto</td>\n",
       "      <td>No</td>\n",
       "      <td>Material and injury</td>\n",
       "      <td>39192.00000</td>\n",
       "      <td>1.0</td>\n",
       "      <td>Yes</td>\n",
       "      <td>Male</td>\n",
       "      <td>20-Dec-72</td>\n",
       "      <td>TX</td>\n",
       "      <td>1738926314</td>\n",
       "      <td>Silver</td>\n",
       "      <td>2018-04-04</td>\n",
       "      <td>1</td>\n",
       "    </tr>\n",
       "    <tr>\n",
       "      <th>670</th>\n",
       "      <td>45780237</td>\n",
       "      <td>287476</td>\n",
       "      <td>Natural causes</td>\n",
       "      <td>10/17/2017</td>\n",
       "      <td>Auto</td>\n",
       "      <td>Unknown</td>\n",
       "      <td>Material only</td>\n",
       "      <td>1621.50000</td>\n",
       "      <td>2.0</td>\n",
       "      <td>Yes</td>\n",
       "      <td>Male</td>\n",
       "      <td>28-Jul-88</td>\n",
       "      <td>FL</td>\n",
       "      <td>3645981549</td>\n",
       "      <td>Silver</td>\n",
       "      <td>2017-10-17</td>\n",
       "      <td>0</td>\n",
       "    </tr>\n",
       "    <tr>\n",
       "      <th>821</th>\n",
       "      <td>89833962</td>\n",
       "      <td>441097</td>\n",
       "      <td>Other causes</td>\n",
       "      <td>03/21/2018</td>\n",
       "      <td>Auto</td>\n",
       "      <td>Yes</td>\n",
       "      <td>Material and injury</td>\n",
       "      <td>37040.00000</td>\n",
       "      <td>1.0</td>\n",
       "      <td>No</td>\n",
       "      <td>Male</td>\n",
       "      <td>19-Aug-71</td>\n",
       "      <td>CA</td>\n",
       "      <td>1873488375</td>\n",
       "      <td>Gold</td>\n",
       "      <td>2018-03-21</td>\n",
       "      <td>0</td>\n",
       "    </tr>\n",
       "    <tr>\n",
       "      <th>505</th>\n",
       "      <td>35782742</td>\n",
       "      <td>524545</td>\n",
       "      <td>Other driver error</td>\n",
       "      <td>07/27/2018</td>\n",
       "      <td>Auto</td>\n",
       "      <td>No</td>\n",
       "      <td>Injury only</td>\n",
       "      <td>35250.00000</td>\n",
       "      <td>3.0</td>\n",
       "      <td>No</td>\n",
       "      <td>Female</td>\n",
       "      <td>10-Aug-80</td>\n",
       "      <td>NC</td>\n",
       "      <td>7988625398</td>\n",
       "      <td>Gold</td>\n",
       "      <td>2018-07-27</td>\n",
       "      <td>1</td>\n",
       "    </tr>\n",
       "    <tr>\n",
       "      <th>...</th>\n",
       "      <td>...</td>\n",
       "      <td>...</td>\n",
       "      <td>...</td>\n",
       "      <td>...</td>\n",
       "      <td>...</td>\n",
       "      <td>...</td>\n",
       "      <td>...</td>\n",
       "      <td>...</td>\n",
       "      <td>...</td>\n",
       "      <td>...</td>\n",
       "      <td>...</td>\n",
       "      <td>...</td>\n",
       "      <td>...</td>\n",
       "      <td>...</td>\n",
       "      <td>...</td>\n",
       "      <td>...</td>\n",
       "      <td>...</td>\n",
       "    </tr>\n",
       "    <tr>\n",
       "      <th>691</th>\n",
       "      <td>4549014</td>\n",
       "      <td>99674324</td>\n",
       "      <td>Other causes</td>\n",
       "      <td>07/07/2018</td>\n",
       "      <td>Auto</td>\n",
       "      <td>No</td>\n",
       "      <td>Injury only</td>\n",
       "      <td>21480.00000</td>\n",
       "      <td>1.0</td>\n",
       "      <td>No</td>\n",
       "      <td>Male</td>\n",
       "      <td>28-Jan-65</td>\n",
       "      <td>UT</td>\n",
       "      <td>5175624916</td>\n",
       "      <td>Silver</td>\n",
       "      <td>2018-07-07</td>\n",
       "      <td>1</td>\n",
       "    </tr>\n",
       "    <tr>\n",
       "      <th>992</th>\n",
       "      <td>35453672</td>\n",
       "      <td>99723844</td>\n",
       "      <td>Natural causes</td>\n",
       "      <td>01/06/2018</td>\n",
       "      <td>Auto</td>\n",
       "      <td>Yes</td>\n",
       "      <td>Material and injury</td>\n",
       "      <td>14360.00000</td>\n",
       "      <td>1.0</td>\n",
       "      <td>No</td>\n",
       "      <td>Female</td>\n",
       "      <td>19-Jun-66</td>\n",
       "      <td>HI</td>\n",
       "      <td>4577521374</td>\n",
       "      <td>Gold</td>\n",
       "      <td>2018-01-06</td>\n",
       "      <td>0</td>\n",
       "    </tr>\n",
       "    <tr>\n",
       "      <th>68</th>\n",
       "      <td>37305754</td>\n",
       "      <td>99761663</td>\n",
       "      <td>Natural causes</td>\n",
       "      <td>04/04/2018</td>\n",
       "      <td>Auto</td>\n",
       "      <td>No</td>\n",
       "      <td>Material only</td>\n",
       "      <td>1242.00000</td>\n",
       "      <td>1.0</td>\n",
       "      <td>Yes</td>\n",
       "      <td>Female</td>\n",
       "      <td>18-Nov-63</td>\n",
       "      <td>NC</td>\n",
       "      <td>6432464718</td>\n",
       "      <td>Silver</td>\n",
       "      <td>2018-04-04</td>\n",
       "      <td>0</td>\n",
       "    </tr>\n",
       "    <tr>\n",
       "      <th>929</th>\n",
       "      <td>22960702</td>\n",
       "      <td>99892000</td>\n",
       "      <td>Driver error</td>\n",
       "      <td>11/13/2017</td>\n",
       "      <td>Auto</td>\n",
       "      <td>No</td>\n",
       "      <td>Material only</td>\n",
       "      <td>2415.00000</td>\n",
       "      <td>2.0</td>\n",
       "      <td>Yes</td>\n",
       "      <td>Male</td>\n",
       "      <td>08-Jun-95</td>\n",
       "      <td>OR</td>\n",
       "      <td>3952466172</td>\n",
       "      <td>Gold</td>\n",
       "      <td>2017-11-13</td>\n",
       "      <td>0</td>\n",
       "    </tr>\n",
       "    <tr>\n",
       "      <th>740</th>\n",
       "      <td>47262068</td>\n",
       "      <td>99961993</td>\n",
       "      <td>Driver error</td>\n",
       "      <td>10/23/2018</td>\n",
       "      <td>Home</td>\n",
       "      <td>No</td>\n",
       "      <td>Material only</td>\n",
       "      <td>2310.00000</td>\n",
       "      <td>1.0</td>\n",
       "      <td>No</td>\n",
       "      <td>Male</td>\n",
       "      <td>10-Jun-95</td>\n",
       "      <td>AL</td>\n",
       "      <td>2349432876</td>\n",
       "      <td>Platinum</td>\n",
       "      <td>2018-10-23</td>\n",
       "      <td>0</td>\n",
       "    </tr>\n",
       "  </tbody>\n",
       "</table>\n",
       "<p>1093 rows × 17 columns</p>\n",
       "</div>"
      ],
      "text/plain": [
       "     claim_id customer_id      incident_cause  claim_date claim_area  \\\n",
       "184  69348631      154557        Driver error  04/10/2018       Auto   \n",
       "829  40953049      263204        Other causes  04/04/2018       Auto   \n",
       "670  45780237      287476      Natural causes  10/17/2017       Auto   \n",
       "821  89833962      441097        Other causes  03/21/2018       Auto   \n",
       "505  35782742      524545  Other driver error  07/27/2018       Auto   \n",
       "..        ...         ...                 ...         ...        ...   \n",
       "691   4549014    99674324        Other causes  07/07/2018       Auto   \n",
       "992  35453672    99723844      Natural causes  01/06/2018       Auto   \n",
       "68   37305754    99761663      Natural causes  04/04/2018       Auto   \n",
       "929  22960702    99892000        Driver error  11/13/2017       Auto   \n",
       "740  47262068    99961993        Driver error  10/23/2018       Home   \n",
       "\n",
       "    police_report           claim_type  claim_amount  total_policy_claims  \\\n",
       "184            No          Injury only   12444.72714                  1.0   \n",
       "829            No  Material and injury   39192.00000                  1.0   \n",
       "670       Unknown        Material only    1621.50000                  2.0   \n",
       "821           Yes  Material and injury   37040.00000                  1.0   \n",
       "505            No          Injury only   35250.00000                  3.0   \n",
       "..            ...                  ...           ...                  ...   \n",
       "691            No          Injury only   21480.00000                  1.0   \n",
       "992           Yes  Material and injury   14360.00000                  1.0   \n",
       "68             No        Material only    1242.00000                  1.0   \n",
       "929            No        Material only    2415.00000                  2.0   \n",
       "740            No        Material only    2310.00000                  1.0   \n",
       "\n",
       "    fraudulent  gender DateOfBirth State     Contact   Segment Claim_date  \\\n",
       "184        Yes  Female   23-May-78    DE  9628791238  Platinum 2018-04-10   \n",
       "829        Yes    Male   20-Dec-72    TX  1738926314    Silver 2018-04-04   \n",
       "670        Yes    Male   28-Jul-88    FL  3645981549    Silver 2017-10-17   \n",
       "821         No    Male   19-Aug-71    CA  1873488375      Gold 2018-03-21   \n",
       "505         No  Female   10-Aug-80    NC  7988625398      Gold 2018-07-27   \n",
       "..         ...     ...         ...   ...         ...       ...        ...   \n",
       "691         No    Male   28-Jan-65    UT  5175624916    Silver 2018-07-07   \n",
       "992         No  Female   19-Jun-66    HI  4577521374      Gold 2018-01-06   \n",
       "68         Yes  Female   18-Nov-63    NC  6432464718    Silver 2018-04-04   \n",
       "929        Yes    Male   08-Jun-95    OR  3952466172      Gold 2017-11-13   \n",
       "740         No    Male   10-Jun-95    AL  2349432876  Platinum 2018-10-23   \n",
       "\n",
       "     flag  \n",
       "184     1  \n",
       "829     1  \n",
       "670     0  \n",
       "821     0  \n",
       "505     1  \n",
       "..    ...  \n",
       "691     1  \n",
       "992     0  \n",
       "68      0  \n",
       "929     0  \n",
       "740     0  \n",
       "\n",
       "[1093 rows x 17 columns]"
      ]
     },
     "execution_count": 423,
     "metadata": {},
     "output_type": "execute_result"
    }
   ],
   "source": [
    "Data_360['claim_amount'] = Data_360['claim_amount'].fillna(Data_360['claim_amount'].mean())"
   ]
  },
  {
   "cell_type": "code",
   "execution_count": 425,
   "id": "e9e2508e-975a-4cd1-909e-d4514f04f75a",
   "metadata": {},
   "outputs": [
    {
     "data": {
      "text/plain": [
       "claim_id               0\n",
       "customer_id            0\n",
       "incident_cause         0\n",
       "claim_date             0\n",
       "claim_area             0\n",
       "police_report          0\n",
       "claim_type             0\n",
       "claim_amount           0\n",
       "total_policy_claims    0\n",
       "fraudulent             0\n",
       "gender                 0\n",
       "DateOfBirth            0\n",
       "State                  0\n",
       "Contact                0\n",
       "Segment                0\n",
       "dtype: int64"
      ]
     },
     "execution_count": 425,
     "metadata": {},
     "output_type": "execute_result"
    }
   ],
   "source": [
    "Claim_demo.isnull().sum()"
   ]
  },
  {
   "cell_type": "code",
   "execution_count": 426,
   "id": "08f57172-65ef-4aa4-b185-e78c7158862c",
   "metadata": {},
   "outputs": [
    {
     "data": {
      "text/plain": [
       "(1100, 15)"
      ]
     },
     "execution_count": 426,
     "metadata": {},
     "output_type": "execute_result"
    }
   ],
   "source": [
    "Claim_demo.shape"
   ]
  },
  {
   "cell_type": "code",
   "execution_count": 427,
   "id": "687da90a-e709-4015-bd09-a58cdc98812b",
   "metadata": {},
   "outputs": [
    {
     "data": {
      "text/html": [
       "<div>\n",
       "<style scoped>\n",
       "    .dataframe tbody tr th:only-of-type {\n",
       "        vertical-align: middle;\n",
       "    }\n",
       "\n",
       "    .dataframe tbody tr th {\n",
       "        vertical-align: top;\n",
       "    }\n",
       "\n",
       "    .dataframe thead th {\n",
       "        text-align: right;\n",
       "    }\n",
       "</style>\n",
       "<table border=\"1\" class=\"dataframe\">\n",
       "  <thead>\n",
       "    <tr style=\"text-align: right;\">\n",
       "      <th></th>\n",
       "      <th>claim_id</th>\n",
       "      <th>customer_id</th>\n",
       "      <th>incident_cause</th>\n",
       "      <th>claim_date</th>\n",
       "      <th>claim_area</th>\n",
       "      <th>police_report</th>\n",
       "      <th>claim_type</th>\n",
       "      <th>claim_amount</th>\n",
       "      <th>total_policy_claims</th>\n",
       "      <th>fraudulent</th>\n",
       "      <th>gender</th>\n",
       "      <th>DateOfBirth</th>\n",
       "      <th>State</th>\n",
       "      <th>Contact</th>\n",
       "      <th>Segment</th>\n",
       "    </tr>\n",
       "  </thead>\n",
       "  <tbody>\n",
       "    <tr>\n",
       "      <th>0</th>\n",
       "      <td>54004764</td>\n",
       "      <td>21868593</td>\n",
       "      <td>Driver error</td>\n",
       "      <td>11/27/2017</td>\n",
       "      <td>Auto</td>\n",
       "      <td>No</td>\n",
       "      <td>Material only</td>\n",
       "      <td>$2980</td>\n",
       "      <td>1.0</td>\n",
       "      <td>No</td>\n",
       "      <td>Female</td>\n",
       "      <td>12-Jan-79</td>\n",
       "      <td>VT</td>\n",
       "      <td>789-916-8172</td>\n",
       "      <td>Platinum</td>\n",
       "    </tr>\n",
       "    <tr>\n",
       "      <th>1</th>\n",
       "      <td>33985796</td>\n",
       "      <td>75740424</td>\n",
       "      <td>Crime</td>\n",
       "      <td>10/03/2018</td>\n",
       "      <td>Home</td>\n",
       "      <td>Unknown</td>\n",
       "      <td>Material only</td>\n",
       "      <td>$2980</td>\n",
       "      <td>3.0</td>\n",
       "      <td>No</td>\n",
       "      <td>Female</td>\n",
       "      <td>13-Jan-70</td>\n",
       "      <td>ME</td>\n",
       "      <td>265-543-1264</td>\n",
       "      <td>Silver</td>\n",
       "    </tr>\n",
       "    <tr>\n",
       "      <th>2</th>\n",
       "      <td>53522022</td>\n",
       "      <td>30308357</td>\n",
       "      <td>Other driver error</td>\n",
       "      <td>02/02/2018</td>\n",
       "      <td>Auto</td>\n",
       "      <td>No</td>\n",
       "      <td>Material only</td>\n",
       "      <td>$3369.5</td>\n",
       "      <td>1.0</td>\n",
       "      <td>Yes</td>\n",
       "      <td>Female</td>\n",
       "      <td>11-Mar-84</td>\n",
       "      <td>TN</td>\n",
       "      <td>798-631-4758</td>\n",
       "      <td>Silver</td>\n",
       "    </tr>\n",
       "    <tr>\n",
       "      <th>3</th>\n",
       "      <td>13015401</td>\n",
       "      <td>47830476</td>\n",
       "      <td>Natural causes</td>\n",
       "      <td>06/17/2018</td>\n",
       "      <td>Auto</td>\n",
       "      <td>No</td>\n",
       "      <td>Material only</td>\n",
       "      <td>$1680</td>\n",
       "      <td>1.0</td>\n",
       "      <td>No</td>\n",
       "      <td>Female</td>\n",
       "      <td>01-May-86</td>\n",
       "      <td>MA</td>\n",
       "      <td>413-187-7945</td>\n",
       "      <td>Silver</td>\n",
       "    </tr>\n",
       "    <tr>\n",
       "      <th>4</th>\n",
       "      <td>22890252</td>\n",
       "      <td>19269962</td>\n",
       "      <td>Crime</td>\n",
       "      <td>01/13/2018</td>\n",
       "      <td>Auto</td>\n",
       "      <td>No</td>\n",
       "      <td>Material only</td>\n",
       "      <td>$2680</td>\n",
       "      <td>1.0</td>\n",
       "      <td>No</td>\n",
       "      <td>Male</td>\n",
       "      <td>13-May-77</td>\n",
       "      <td>NV</td>\n",
       "      <td>956-871-8691</td>\n",
       "      <td>Gold</td>\n",
       "    </tr>\n",
       "  </tbody>\n",
       "</table>\n",
       "</div>"
      ],
      "text/plain": [
       "   claim_id  customer_id      incident_cause  claim_date claim_area  \\\n",
       "0  54004764     21868593        Driver error  11/27/2017       Auto   \n",
       "1  33985796     75740424               Crime  10/03/2018       Home   \n",
       "2  53522022     30308357  Other driver error  02/02/2018       Auto   \n",
       "3  13015401     47830476      Natural causes  06/17/2018       Auto   \n",
       "4  22890252     19269962               Crime  01/13/2018       Auto   \n",
       "\n",
       "  police_report     claim_type claim_amount total_policy_claims fraudulent  \\\n",
       "0            No  Material only        $2980                 1.0         No   \n",
       "1       Unknown  Material only        $2980                 3.0         No   \n",
       "2            No  Material only      $3369.5                 1.0        Yes   \n",
       "3            No  Material only        $1680                 1.0         No   \n",
       "4            No  Material only        $2680                 1.0         No   \n",
       "\n",
       "   gender DateOfBirth State       Contact   Segment  \n",
       "0  Female   12-Jan-79    VT  789-916-8172  Platinum  \n",
       "1  Female   13-Jan-70    ME  265-543-1264    Silver  \n",
       "2  Female   11-Mar-84    TN  798-631-4758    Silver  \n",
       "3  Female   01-May-86    MA  413-187-7945    Silver  \n",
       "4    Male   13-May-77    NV  956-871-8691      Gold  "
      ]
     },
     "execution_count": 427,
     "metadata": {},
     "output_type": "execute_result"
    }
   ],
   "source": [
    "Claim_demo.head()"
   ]
  },
  {
   "cell_type": "markdown",
   "id": "89e6bca5-4d82-47dc-a9ec-f59f4ed34ba3",
   "metadata": {},
   "source": [
    "##7. Calculate the age of customers in years. Based on the age, categorize the customers according to the below criteria\n",
    "# Children < 18\n",
    "# Youth 18-30\n",
    "# Adult 30-60\n",
    "# Senior > 60\n"
   ]
  },
  {
   "cell_type": "code",
   "execution_count": 428,
   "id": "3198fd8f-1f8e-4909-a797-24d7c8c481d3",
   "metadata": {},
   "outputs": [
    {
     "data": {
      "text/html": [
       "<div>\n",
       "<style scoped>\n",
       "    .dataframe tbody tr th:only-of-type {\n",
       "        vertical-align: middle;\n",
       "    }\n",
       "\n",
       "    .dataframe tbody tr th {\n",
       "        vertical-align: top;\n",
       "    }\n",
       "\n",
       "    .dataframe thead th {\n",
       "        text-align: right;\n",
       "    }\n",
       "</style>\n",
       "<table border=\"1\" class=\"dataframe\">\n",
       "  <thead>\n",
       "    <tr style=\"text-align: right;\">\n",
       "      <th></th>\n",
       "      <th>claim_id</th>\n",
       "      <th>customer_id</th>\n",
       "      <th>incident_cause</th>\n",
       "      <th>claim_date</th>\n",
       "      <th>claim_area</th>\n",
       "      <th>police_report</th>\n",
       "      <th>claim_type</th>\n",
       "      <th>claim_amount</th>\n",
       "      <th>total_policy_claims</th>\n",
       "      <th>fraudulent</th>\n",
       "      <th>gender</th>\n",
       "      <th>DateOfBirth</th>\n",
       "      <th>State</th>\n",
       "      <th>Contact</th>\n",
       "      <th>Segment</th>\n",
       "      <th>Claim_date</th>\n",
       "      <th>flag</th>\n",
       "    </tr>\n",
       "  </thead>\n",
       "  <tbody>\n",
       "    <tr>\n",
       "      <th>184</th>\n",
       "      <td>69348631</td>\n",
       "      <td>154557</td>\n",
       "      <td>Driver error</td>\n",
       "      <td>04/10/2018</td>\n",
       "      <td>Auto</td>\n",
       "      <td>No</td>\n",
       "      <td>Injury only</td>\n",
       "      <td>12444.72714</td>\n",
       "      <td>1.0</td>\n",
       "      <td>Yes</td>\n",
       "      <td>Female</td>\n",
       "      <td>1978-05-23</td>\n",
       "      <td>DE</td>\n",
       "      <td>9628791238</td>\n",
       "      <td>Platinum</td>\n",
       "      <td>2018-04-10</td>\n",
       "      <td>1</td>\n",
       "    </tr>\n",
       "    <tr>\n",
       "      <th>829</th>\n",
       "      <td>40953049</td>\n",
       "      <td>263204</td>\n",
       "      <td>Other causes</td>\n",
       "      <td>04/04/2018</td>\n",
       "      <td>Auto</td>\n",
       "      <td>No</td>\n",
       "      <td>Material and injury</td>\n",
       "      <td>39192.00000</td>\n",
       "      <td>1.0</td>\n",
       "      <td>Yes</td>\n",
       "      <td>Male</td>\n",
       "      <td>1972-12-20</td>\n",
       "      <td>TX</td>\n",
       "      <td>1738926314</td>\n",
       "      <td>Silver</td>\n",
       "      <td>2018-04-04</td>\n",
       "      <td>1</td>\n",
       "    </tr>\n",
       "    <tr>\n",
       "      <th>670</th>\n",
       "      <td>45780237</td>\n",
       "      <td>287476</td>\n",
       "      <td>Natural causes</td>\n",
       "      <td>10/17/2017</td>\n",
       "      <td>Auto</td>\n",
       "      <td>Unknown</td>\n",
       "      <td>Material only</td>\n",
       "      <td>1621.50000</td>\n",
       "      <td>2.0</td>\n",
       "      <td>Yes</td>\n",
       "      <td>Male</td>\n",
       "      <td>1988-07-28</td>\n",
       "      <td>FL</td>\n",
       "      <td>3645981549</td>\n",
       "      <td>Silver</td>\n",
       "      <td>2017-10-17</td>\n",
       "      <td>0</td>\n",
       "    </tr>\n",
       "    <tr>\n",
       "      <th>821</th>\n",
       "      <td>89833962</td>\n",
       "      <td>441097</td>\n",
       "      <td>Other causes</td>\n",
       "      <td>03/21/2018</td>\n",
       "      <td>Auto</td>\n",
       "      <td>Yes</td>\n",
       "      <td>Material and injury</td>\n",
       "      <td>37040.00000</td>\n",
       "      <td>1.0</td>\n",
       "      <td>No</td>\n",
       "      <td>Male</td>\n",
       "      <td>1971-08-19</td>\n",
       "      <td>CA</td>\n",
       "      <td>1873488375</td>\n",
       "      <td>Gold</td>\n",
       "      <td>2018-03-21</td>\n",
       "      <td>0</td>\n",
       "    </tr>\n",
       "    <tr>\n",
       "      <th>505</th>\n",
       "      <td>35782742</td>\n",
       "      <td>524545</td>\n",
       "      <td>Other driver error</td>\n",
       "      <td>07/27/2018</td>\n",
       "      <td>Auto</td>\n",
       "      <td>No</td>\n",
       "      <td>Injury only</td>\n",
       "      <td>35250.00000</td>\n",
       "      <td>3.0</td>\n",
       "      <td>No</td>\n",
       "      <td>Female</td>\n",
       "      <td>1980-08-10</td>\n",
       "      <td>NC</td>\n",
       "      <td>7988625398</td>\n",
       "      <td>Gold</td>\n",
       "      <td>2018-07-27</td>\n",
       "      <td>1</td>\n",
       "    </tr>\n",
       "  </tbody>\n",
       "</table>\n",
       "</div>"
      ],
      "text/plain": [
       "     claim_id customer_id      incident_cause  claim_date claim_area  \\\n",
       "184  69348631      154557        Driver error  04/10/2018       Auto   \n",
       "829  40953049      263204        Other causes  04/04/2018       Auto   \n",
       "670  45780237      287476      Natural causes  10/17/2017       Auto   \n",
       "821  89833962      441097        Other causes  03/21/2018       Auto   \n",
       "505  35782742      524545  Other driver error  07/27/2018       Auto   \n",
       "\n",
       "    police_report           claim_type  claim_amount  total_policy_claims  \\\n",
       "184            No          Injury only   12444.72714                  1.0   \n",
       "829            No  Material and injury   39192.00000                  1.0   \n",
       "670       Unknown        Material only    1621.50000                  2.0   \n",
       "821           Yes  Material and injury   37040.00000                  1.0   \n",
       "505            No          Injury only   35250.00000                  3.0   \n",
       "\n",
       "    fraudulent  gender DateOfBirth State     Contact   Segment Claim_date  \\\n",
       "184        Yes  Female  1978-05-23    DE  9628791238  Platinum 2018-04-10   \n",
       "829        Yes    Male  1972-12-20    TX  1738926314    Silver 2018-04-04   \n",
       "670        Yes    Male  1988-07-28    FL  3645981549    Silver 2017-10-17   \n",
       "821         No    Male  1971-08-19    CA  1873488375      Gold 2018-03-21   \n",
       "505         No  Female  1980-08-10    NC  7988625398      Gold 2018-07-27   \n",
       "\n",
       "     flag  \n",
       "184     1  \n",
       "829     1  \n",
       "670     0  \n",
       "821     0  \n",
       "505     1  "
      ]
     },
     "execution_count": 428,
     "metadata": {},
     "output_type": "execute_result"
    }
   ],
   "source": [
    "Data_360['DateOfBirth'] = pd.to_datetime(Data_360['DateOfBirth'],format='%d-%b-%y')\n",
    "Data_360.head(5)"
   ]
  },
  {
   "cell_type": "code",
   "execution_count": 429,
   "id": "236b75da-daf9-41f6-befe-7a15e02adc38",
   "metadata": {},
   "outputs": [],
   "source": [
    "Data_360['age'] = np.abs(2024- Data_360['DateOfBirth'].dt.year )"
   ]
  },
  {
   "cell_type": "code",
   "execution_count": 430,
   "id": "5ca4961f-b854-4ce2-b4aa-541a77deffd4",
   "metadata": {},
   "outputs": [
    {
     "data": {
      "text/html": [
       "<div>\n",
       "<style scoped>\n",
       "    .dataframe tbody tr th:only-of-type {\n",
       "        vertical-align: middle;\n",
       "    }\n",
       "\n",
       "    .dataframe tbody tr th {\n",
       "        vertical-align: top;\n",
       "    }\n",
       "\n",
       "    .dataframe thead th {\n",
       "        text-align: right;\n",
       "    }\n",
       "</style>\n",
       "<table border=\"1\" class=\"dataframe\">\n",
       "  <thead>\n",
       "    <tr style=\"text-align: right;\">\n",
       "      <th></th>\n",
       "      <th>claim_id</th>\n",
       "      <th>customer_id</th>\n",
       "      <th>incident_cause</th>\n",
       "      <th>claim_date</th>\n",
       "      <th>claim_area</th>\n",
       "      <th>police_report</th>\n",
       "      <th>claim_type</th>\n",
       "      <th>claim_amount</th>\n",
       "      <th>total_policy_claims</th>\n",
       "      <th>fraudulent</th>\n",
       "      <th>gender</th>\n",
       "      <th>DateOfBirth</th>\n",
       "      <th>State</th>\n",
       "      <th>Contact</th>\n",
       "      <th>Segment</th>\n",
       "      <th>Claim_date</th>\n",
       "      <th>flag</th>\n",
       "      <th>age</th>\n",
       "    </tr>\n",
       "  </thead>\n",
       "  <tbody>\n",
       "    <tr>\n",
       "      <th>184</th>\n",
       "      <td>69348631</td>\n",
       "      <td>154557</td>\n",
       "      <td>Driver error</td>\n",
       "      <td>04/10/2018</td>\n",
       "      <td>Auto</td>\n",
       "      <td>No</td>\n",
       "      <td>Injury only</td>\n",
       "      <td>12444.72714</td>\n",
       "      <td>1.0</td>\n",
       "      <td>Yes</td>\n",
       "      <td>Female</td>\n",
       "      <td>1978-05-23</td>\n",
       "      <td>DE</td>\n",
       "      <td>9628791238</td>\n",
       "      <td>Platinum</td>\n",
       "      <td>2018-04-10</td>\n",
       "      <td>1</td>\n",
       "      <td>46</td>\n",
       "    </tr>\n",
       "    <tr>\n",
       "      <th>829</th>\n",
       "      <td>40953049</td>\n",
       "      <td>263204</td>\n",
       "      <td>Other causes</td>\n",
       "      <td>04/04/2018</td>\n",
       "      <td>Auto</td>\n",
       "      <td>No</td>\n",
       "      <td>Material and injury</td>\n",
       "      <td>39192.00000</td>\n",
       "      <td>1.0</td>\n",
       "      <td>Yes</td>\n",
       "      <td>Male</td>\n",
       "      <td>1972-12-20</td>\n",
       "      <td>TX</td>\n",
       "      <td>1738926314</td>\n",
       "      <td>Silver</td>\n",
       "      <td>2018-04-04</td>\n",
       "      <td>1</td>\n",
       "      <td>52</td>\n",
       "    </tr>\n",
       "  </tbody>\n",
       "</table>\n",
       "</div>"
      ],
      "text/plain": [
       "     claim_id customer_id incident_cause  claim_date claim_area police_report  \\\n",
       "184  69348631      154557   Driver error  04/10/2018       Auto            No   \n",
       "829  40953049      263204   Other causes  04/04/2018       Auto            No   \n",
       "\n",
       "              claim_type  claim_amount  total_policy_claims fraudulent  \\\n",
       "184          Injury only   12444.72714                  1.0        Yes   \n",
       "829  Material and injury   39192.00000                  1.0        Yes   \n",
       "\n",
       "     gender DateOfBirth State     Contact   Segment Claim_date  flag  age  \n",
       "184  Female  1978-05-23    DE  9628791238  Platinum 2018-04-10     1   46  \n",
       "829    Male  1972-12-20    TX  1738926314    Silver 2018-04-04     1   52  "
      ]
     },
     "execution_count": 430,
     "metadata": {},
     "output_type": "execute_result"
    }
   ],
   "source": [
    "Data_360.head(2)"
   ]
  },
  {
   "cell_type": "code",
   "execution_count": 431,
   "id": "ce58f11a-09c1-487a-b492-37338469b108",
   "metadata": {},
   "outputs": [
    {
     "data": {
      "text/plain": [
       "55"
      ]
     },
     "execution_count": 431,
     "metadata": {},
     "output_type": "execute_result"
    }
   ],
   "source": [
    "Data_360['age'].max()"
   ]
  },
  {
   "cell_type": "code",
   "execution_count": 432,
   "id": "398d3722-d865-4cd9-82fa-ae6205a0af94",
   "metadata": {},
   "outputs": [],
   "source": [
    "Data_360['age_category'] = pd.cut(Data_360['age'],[0,18,30,60,100],labels=['Children','Youth','Adult','Senior'])"
   ]
  },
  {
   "cell_type": "code",
   "execution_count": 433,
   "id": "539c3d90-fe2e-4b7f-9d41-1daaf616e7f8",
   "metadata": {},
   "outputs": [
    {
     "name": "stderr",
     "output_type": "stream",
     "text": [
      "C:\\Users\\hp\\AppData\\Local\\Temp\\ipykernel_19244\\813979596.py:1: FutureWarning: The default of observed=False is deprecated and will be changed to True in a future version of pandas. Pass observed=False to retain current behavior or observed=True to adopt the future default and silence this warning.\n",
      "  Data_360.groupby('age_category')['claim_amount'].mean()\n"
     ]
    },
    {
     "data": {
      "text/plain": [
       "age_category\n",
       "Children             NaN\n",
       "Youth       12561.627734\n",
       "Adult       12422.593622\n",
       "Senior               NaN\n",
       "Name: claim_amount, dtype: float64"
      ]
     },
     "execution_count": 433,
     "metadata": {},
     "output_type": "execute_result"
    }
   ],
   "source": [
    "Data_360.groupby('age_category')['claim_amount'].mean()"
   ]
  },
  {
   "cell_type": "code",
   "execution_count": 434,
   "id": "dcd40647-dd34-4cd6-a81b-6c4bfcd595d2",
   "metadata": {},
   "outputs": [
    {
     "data": {
      "text/plain": [
       "incident_cause\n",
       "Crime                 7.642756e+05\n",
       "Driver error          3.545806e+06\n",
       "Natural causes        1.389928e+06\n",
       "Other causes          4.277400e+06\n",
       "Other driver error    3.624678e+06\n",
       "Name: claim_amount, dtype: float64"
      ]
     },
     "execution_count": 434,
     "metadata": {},
     "output_type": "execute_result"
    }
   ],
   "source": [
    "Data_360[Data_360['claim_date']<='2018-09-10'].groupby('incident_cause')['claim_amount'].sum()"
   ]
  },
  {
   "cell_type": "markdown",
   "id": "9d563943-4a85-4866-8385-3b4e953247d9",
   "metadata": {},
   "source": [
    "# 8. What is the average amount claimed by the customers from various segments?"
   ]
  },
  {
   "cell_type": "code",
   "execution_count": 435,
   "id": "d501a41a-7d9a-4551-a714-823b50268c3c",
   "metadata": {},
   "outputs": [
    {
     "data": {
      "text/html": [
       "<div>\n",
       "<style scoped>\n",
       "    .dataframe tbody tr th:only-of-type {\n",
       "        vertical-align: middle;\n",
       "    }\n",
       "\n",
       "    .dataframe tbody tr th {\n",
       "        vertical-align: top;\n",
       "    }\n",
       "\n",
       "    .dataframe thead th {\n",
       "        text-align: right;\n",
       "    }\n",
       "</style>\n",
       "<table border=\"1\" class=\"dataframe\">\n",
       "  <thead>\n",
       "    <tr style=\"text-align: right;\">\n",
       "      <th></th>\n",
       "      <th>Segment</th>\n",
       "      <th>claim_amount</th>\n",
       "    </tr>\n",
       "  </thead>\n",
       "  <tbody>\n",
       "    <tr>\n",
       "      <th>0</th>\n",
       "      <td>Gold</td>\n",
       "      <td>12675.262946</td>\n",
       "    </tr>\n",
       "    <tr>\n",
       "      <th>1</th>\n",
       "      <td>Platinum</td>\n",
       "      <td>12368.233815</td>\n",
       "    </tr>\n",
       "    <tr>\n",
       "      <th>2</th>\n",
       "      <td>Silver</td>\n",
       "      <td>12267.349306</td>\n",
       "    </tr>\n",
       "  </tbody>\n",
       "</table>\n",
       "</div>"
      ],
      "text/plain": [
       "    Segment  claim_amount\n",
       "0      Gold  12675.262946\n",
       "1  Platinum  12368.233815\n",
       "2    Silver  12267.349306"
      ]
     },
     "execution_count": 435,
     "metadata": {},
     "output_type": "execute_result"
    }
   ],
   "source": [
    "Data_360.groupby('Segment')['claim_amount'].mean().reset_index()"
   ]
  },
  {
   "cell_type": "markdown",
   "id": "671b2ce4-f426-4c4b-b9fa-bfff80f2fe99",
   "metadata": {},
   "source": [
    "# 9. What is the total claim amount based on incident cause for all the claims that have been done at least 20 days prior to 1st of October, 2018."
   ]
  },
  {
   "cell_type": "code",
   "execution_count": 436,
   "id": "faec2a8f-4bdf-4d05-8bad-6ac9e65656e6",
   "metadata": {},
   "outputs": [
    {
     "data": {
      "text/html": [
       "<div>\n",
       "<style scoped>\n",
       "    .dataframe tbody tr th:only-of-type {\n",
       "        vertical-align: middle;\n",
       "    }\n",
       "\n",
       "    .dataframe tbody tr th {\n",
       "        vertical-align: top;\n",
       "    }\n",
       "\n",
       "    .dataframe thead th {\n",
       "        text-align: right;\n",
       "    }\n",
       "</style>\n",
       "<table border=\"1\" class=\"dataframe\">\n",
       "  <thead>\n",
       "    <tr style=\"text-align: right;\">\n",
       "      <th></th>\n",
       "      <th>claim_amount</th>\n",
       "    </tr>\n",
       "    <tr>\n",
       "      <th>incident_cause</th>\n",
       "      <th></th>\n",
       "    </tr>\n",
       "  </thead>\n",
       "  <tbody>\n",
       "    <tr>\n",
       "      <th>Crime</th>\n",
       "      <td>6947.960325</td>\n",
       "    </tr>\n",
       "    <tr>\n",
       "      <th>Driver error</th>\n",
       "      <td>13796.909083</td>\n",
       "    </tr>\n",
       "    <tr>\n",
       "      <th>Natural causes</th>\n",
       "      <td>7393.235486</td>\n",
       "    </tr>\n",
       "    <tr>\n",
       "      <th>Other causes</th>\n",
       "      <td>14800.690460</td>\n",
       "    </tr>\n",
       "    <tr>\n",
       "      <th>Other driver error</th>\n",
       "      <td>14556.938474</td>\n",
       "    </tr>\n",
       "  </tbody>\n",
       "</table>\n",
       "</div>"
      ],
      "text/plain": [
       "                    claim_amount\n",
       "incident_cause                  \n",
       "Crime                6947.960325\n",
       "Driver error        13796.909083\n",
       "Natural causes       7393.235486\n",
       "Other causes        14800.690460\n",
       "Other driver error  14556.938474"
      ]
     },
     "execution_count": 436,
     "metadata": {},
     "output_type": "execute_result"
    }
   ],
   "source": [
    "Data_360[Data_360.claim_date < \"2018-09-10\"].groupby(by = 'incident_cause')[['claim_amount']].mean()"
   ]
  },
  {
   "cell_type": "markdown",
   "id": "dc74e421-ec1d-4512-b186-591f936d4791",
   "metadata": {},
   "source": [
    "##10. How many adults from TX, DE and AK claimed insurance for driver related issues and causes? "
   ]
  },
  {
   "cell_type": "code",
   "execution_count": 437,
   "id": "6092371f-740c-41d8-8afa-8398ed8aa421",
   "metadata": {},
   "outputs": [
    {
     "data": {
      "text/plain": [
       "State\n",
       "AK    10\n",
       "DE    15\n",
       "TX    10\n",
       "Name: State, dtype: int64"
      ]
     },
     "execution_count": 437,
     "metadata": {},
     "output_type": "execute_result"
    }
   ],
   "source": [
    "Data_360.loc[(Data_360.incident_cause.str.lower().str.contains(\"driver\") & ((Data_360.State == \"TX\") | (Data_360.State == \"DE\") | \n",
    "                                                                            (Data_360.State == \"AK\"))),:].groupby(\"State\")[\"State\"].count()"
   ]
  },
  {
   "cell_type": "markdown",
   "id": "450ee0d4-a205-4b0f-9099-8d4ac648d322",
   "metadata": {},
   "source": [
    "# 11. Draw a pie chart between the aggregated value of claim amount based on gender and segment. Represent the claim amount as a percentage onthe pie chart."
   ]
  },
  {
   "cell_type": "code",
   "execution_count": 438,
   "id": "3878366e-82c5-46a3-bb81-b6af75c79c89",
   "metadata": {},
   "outputs": [
    {
     "data": {
      "image/png": "[encoded data removed]",
      "text/plain": [
       "<Figure size 640x480 with 2 Axes>"
      ]
     },
     "metadata": {},
     "output_type": "display_data"
    }
   ],
   "source": [
    "pie = Data_360.groupby(['Segment','gender'])['claim_amount'].sum().reset_index()\n",
    "pie.pivot(index=\"Segment\", columns= \"gender\", values= \"claim_amount\").plot(kind = \"pie\", subplots= True, legend= False)\n",
    "plt.show()"
   ]
  },
  {
   "cell_type": "markdown",
   "id": "4fcfd583-9eab-4375-9565-377b58bfa348",
   "metadata": {},
   "source": [
    "# 12. Among males and females, which gender had claimed the most for any type of driver related issues? "
   ]
  },
  {
   "cell_type": "code",
   "execution_count": 439,
   "id": "c0e7123c-e557-456a-8f0e-079dad0f42e7",
   "metadata": {},
   "outputs": [],
   "source": [
    "bar = Data_360[(Data_360.incident_cause.str.lower().str.contains(\"driver\", na=False))].groupby([\"gender\"])[[\"gender\"]].count().add_prefix(\"count_\").reset_index()"
   ]
  },
  {
   "cell_type": "code",
   "execution_count": 440,
   "id": "a6b50839-3af5-454f-938b-f0b1397abf44",
   "metadata": {},
   "outputs": [
    {
     "data": {
      "image/png": "[encoded data removed]",
      "text/plain": [
       "<Figure size 640x480 with 1 Axes>"
      ]
     },
     "metadata": {},
     "output_type": "display_data"
    }
   ],
   "source": [
    "pd.pivot_table(bar,index=\"gender\",values=\"count_gender\").plot(kind = \"bar\")\n",
    "plt.show()"
   ]
  },
  {
   "cell_type": "markdown",
   "id": "6804657d-6a5b-45bb-80c7-8fec953a45b6",
   "metadata": {},
   "source": [
    "## 13. Which age group had the maximum fraudulent policy claims? Visualize it on a bar chart."
   ]
  },
  {
   "cell_type": "code",
   "execution_count": 441,
   "id": "c16e3881-c5b5-4416-864f-6e217b2c8b43",
   "metadata": {},
   "outputs": [
    {
     "data": {
      "text/html": [
       "<div>\n",
       "<style scoped>\n",
       "    .dataframe tbody tr th:only-of-type {\n",
       "        vertical-align: middle;\n",
       "    }\n",
       "\n",
       "    .dataframe tbody tr th {\n",
       "        vertical-align: top;\n",
       "    }\n",
       "\n",
       "    .dataframe thead th {\n",
       "        text-align: right;\n",
       "    }\n",
       "</style>\n",
       "<table border=\"1\" class=\"dataframe\">\n",
       "  <thead>\n",
       "    <tr style=\"text-align: right;\">\n",
       "      <th></th>\n",
       "      <th>claim_id</th>\n",
       "      <th>customer_id</th>\n",
       "      <th>incident_cause</th>\n",
       "      <th>claim_date</th>\n",
       "      <th>claim_area</th>\n",
       "      <th>police_report</th>\n",
       "      <th>claim_type</th>\n",
       "      <th>claim_amount</th>\n",
       "      <th>total_policy_claims</th>\n",
       "      <th>fraudulent</th>\n",
       "      <th>gender</th>\n",
       "      <th>DateOfBirth</th>\n",
       "      <th>State</th>\n",
       "      <th>Contact</th>\n",
       "      <th>Segment</th>\n",
       "      <th>Claim_date</th>\n",
       "      <th>flag</th>\n",
       "      <th>age</th>\n",
       "      <th>age_category</th>\n",
       "    </tr>\n",
       "  </thead>\n",
       "  <tbody>\n",
       "    <tr>\n",
       "      <th>184</th>\n",
       "      <td>69348631</td>\n",
       "      <td>154557</td>\n",
       "      <td>Driver error</td>\n",
       "      <td>04/10/2018</td>\n",
       "      <td>Auto</td>\n",
       "      <td>No</td>\n",
       "      <td>Injury only</td>\n",
       "      <td>12444.72714</td>\n",
       "      <td>1.0</td>\n",
       "      <td>Yes</td>\n",
       "      <td>Female</td>\n",
       "      <td>1978-05-23</td>\n",
       "      <td>DE</td>\n",
       "      <td>9628791238</td>\n",
       "      <td>Platinum</td>\n",
       "      <td>2018-04-10</td>\n",
       "      <td>1</td>\n",
       "      <td>46</td>\n",
       "      <td>Adult</td>\n",
       "    </tr>\n",
       "    <tr>\n",
       "      <th>829</th>\n",
       "      <td>40953049</td>\n",
       "      <td>263204</td>\n",
       "      <td>Other causes</td>\n",
       "      <td>04/04/2018</td>\n",
       "      <td>Auto</td>\n",
       "      <td>No</td>\n",
       "      <td>Material and injury</td>\n",
       "      <td>39192.00000</td>\n",
       "      <td>1.0</td>\n",
       "      <td>Yes</td>\n",
       "      <td>Male</td>\n",
       "      <td>1972-12-20</td>\n",
       "      <td>TX</td>\n",
       "      <td>1738926314</td>\n",
       "      <td>Silver</td>\n",
       "      <td>2018-04-04</td>\n",
       "      <td>1</td>\n",
       "      <td>52</td>\n",
       "      <td>Adult</td>\n",
       "    </tr>\n",
       "  </tbody>\n",
       "</table>\n",
       "</div>"
      ],
      "text/plain": [
       "     claim_id customer_id incident_cause  claim_date claim_area police_report  \\\n",
       "184  69348631      154557   Driver error  04/10/2018       Auto            No   \n",
       "829  40953049      263204   Other causes  04/04/2018       Auto            No   \n",
       "\n",
       "              claim_type  claim_amount  total_policy_claims fraudulent  \\\n",
       "184          Injury only   12444.72714                  1.0        Yes   \n",
       "829  Material and injury   39192.00000                  1.0        Yes   \n",
       "\n",
       "     gender DateOfBirth State     Contact   Segment Claim_date  flag  age  \\\n",
       "184  Female  1978-05-23    DE  9628791238  Platinum 2018-04-10     1   46   \n",
       "829    Male  1972-12-20    TX  1738926314    Silver 2018-04-04     1   52   \n",
       "\n",
       "    age_category  \n",
       "184        Adult  \n",
       "829        Adult  "
      ]
     },
     "execution_count": 441,
     "metadata": {},
     "output_type": "execute_result"
    }
   ],
   "source": [
    "Data_360.head(2)"
   ]
  },
  {
   "cell_type": "code",
   "execution_count": 442,
   "id": "c0efc854-0ce1-49b4-a5b4-d41731088646",
   "metadata": {},
   "outputs": [
    {
     "name": "stderr",
     "output_type": "stream",
     "text": [
      "C:\\Users\\hp\\AppData\\Local\\Temp\\ipykernel_19244\\3693120346.py:1: FutureWarning: The default of observed=False is deprecated and will be changed to True in a future version of pandas. Pass observed=False to retain current behavior or observed=True to adopt the future default and silence this warning.\n",
      "  Bar = Data_360.groupby('age_category')['fraudulent'].count().reset_index()\n"
     ]
    },
    {
     "data": {
      "text/html": [
       "<div>\n",
       "<style scoped>\n",
       "    .dataframe tbody tr th:only-of-type {\n",
       "        vertical-align: middle;\n",
       "    }\n",
       "\n",
       "    .dataframe tbody tr th {\n",
       "        vertical-align: top;\n",
       "    }\n",
       "\n",
       "    .dataframe thead th {\n",
       "        text-align: right;\n",
       "    }\n",
       "</style>\n",
       "<table border=\"1\" class=\"dataframe\">\n",
       "  <thead>\n",
       "    <tr style=\"text-align: right;\">\n",
       "      <th></th>\n",
       "      <th>age_category</th>\n",
       "      <th>fraudulent</th>\n",
       "    </tr>\n",
       "  </thead>\n",
       "  <tbody>\n",
       "    <tr>\n",
       "      <th>0</th>\n",
       "      <td>Children</td>\n",
       "      <td>0</td>\n",
       "    </tr>\n",
       "    <tr>\n",
       "      <th>1</th>\n",
       "      <td>Youth</td>\n",
       "      <td>174</td>\n",
       "    </tr>\n",
       "    <tr>\n",
       "      <th>2</th>\n",
       "      <td>Adult</td>\n",
       "      <td>919</td>\n",
       "    </tr>\n",
       "    <tr>\n",
       "      <th>3</th>\n",
       "      <td>Senior</td>\n",
       "      <td>0</td>\n",
       "    </tr>\n",
       "  </tbody>\n",
       "</table>\n",
       "</div>"
      ],
      "text/plain": [
       "  age_category  fraudulent\n",
       "0     Children           0\n",
       "1        Youth         174\n",
       "2        Adult         919\n",
       "3       Senior           0"
      ]
     },
     "execution_count": 442,
     "metadata": {},
     "output_type": "execute_result"
    }
   ],
   "source": [
    "Bar = Data_360.groupby('age_category')['fraudulent'].count().reset_index()\n",
    "Bar"
   ]
  },
  {
   "cell_type": "code",
   "execution_count": 443,
   "id": "1495fd41-fe69-4f6a-866f-413a65a71537",
   "metadata": {},
   "outputs": [
    {
     "name": "stderr",
     "output_type": "stream",
     "text": [
      "C:\\Users\\hp\\AppData\\Local\\Temp\\ipykernel_19244\\1901673757.py:1: FutureWarning: The default value of observed=False is deprecated and will change to observed=True in a future version of pandas. Specify observed=False to silence this warning and retain the current behavior\n",
      "  pd.pivot_table(Bar,index=\"age_category\",values=\"fraudulent\").plot(kind = \"bar\")\n"
     ]
    },
    {
     "data": {
      "text/plain": [
       "<Axes: xlabel='age_category'>"
      ]
     },
     "execution_count": 443,
     "metadata": {},
     "output_type": "execute_result"
    },
    {
     "data": {
      "image/png": "[encoded data removed]",
      "text/plain": [
       "<Figure size 640x480 with 1 Axes>"
      ]
     },
     "metadata": {},
     "output_type": "display_data"
    }
   ],
   "source": [
    "pd.pivot_table(Bar,index=\"age_category\",values=\"fraudulent\").plot(kind = \"bar\")"
   ]
  },
  {
   "cell_type": "markdown",
   "id": "22a074ac-8c74-4bdb-a1d3-7eee61545c5c",
   "metadata": {},
   "source": [
    "## 14. Visualize the monthly trend of the total amount that has been claimed by the customers. Ensure that on the “month” axis, the month is in a \n",
    "chronological order not alphabetical order.   "
   ]
  },
  {
   "cell_type": "code",
   "execution_count": 444,
   "id": "27c1c788-5bb3-420b-bccd-1283b062898d",
   "metadata": {},
   "outputs": [
    {
     "data": {
      "text/html": [
       "<div>\n",
       "<style scoped>\n",
       "    .dataframe tbody tr th:only-of-type {\n",
       "        vertical-align: middle;\n",
       "    }\n",
       "\n",
       "    .dataframe tbody tr th {\n",
       "        vertical-align: top;\n",
       "    }\n",
       "\n",
       "    .dataframe thead th {\n",
       "        text-align: right;\n",
       "    }\n",
       "</style>\n",
       "<table border=\"1\" class=\"dataframe\">\n",
       "  <thead>\n",
       "    <tr style=\"text-align: right;\">\n",
       "      <th></th>\n",
       "      <th>Month_num</th>\n",
       "      <th>claim_amount</th>\n",
       "    </tr>\n",
       "  </thead>\n",
       "  <tbody>\n",
       "    <tr>\n",
       "      <th>0</th>\n",
       "      <td>1</td>\n",
       "      <td>1.331832e+06</td>\n",
       "    </tr>\n",
       "    <tr>\n",
       "      <th>1</th>\n",
       "      <td>2</td>\n",
       "      <td>1.156579e+06</td>\n",
       "    </tr>\n",
       "    <tr>\n",
       "      <th>2</th>\n",
       "      <td>3</td>\n",
       "      <td>1.348315e+06</td>\n",
       "    </tr>\n",
       "    <tr>\n",
       "      <th>3</th>\n",
       "      <td>4</td>\n",
       "      <td>1.276020e+06</td>\n",
       "    </tr>\n",
       "    <tr>\n",
       "      <th>4</th>\n",
       "      <td>5</td>\n",
       "      <td>1.115035e+06</td>\n",
       "    </tr>\n",
       "    <tr>\n",
       "      <th>5</th>\n",
       "      <td>6</td>\n",
       "      <td>1.317728e+06</td>\n",
       "    </tr>\n",
       "    <tr>\n",
       "      <th>6</th>\n",
       "      <td>7</td>\n",
       "      <td>1.382493e+06</td>\n",
       "    </tr>\n",
       "    <tr>\n",
       "      <th>7</th>\n",
       "      <td>8</td>\n",
       "      <td>9.134147e+05</td>\n",
       "    </tr>\n",
       "    <tr>\n",
       "      <th>8</th>\n",
       "      <td>9</td>\n",
       "      <td>9.803903e+05</td>\n",
       "    </tr>\n",
       "    <tr>\n",
       "      <th>9</th>\n",
       "      <td>10</td>\n",
       "      <td>1.428671e+06</td>\n",
       "    </tr>\n",
       "    <tr>\n",
       "      <th>10</th>\n",
       "      <td>11</td>\n",
       "      <td>6.259235e+05</td>\n",
       "    </tr>\n",
       "    <tr>\n",
       "      <th>11</th>\n",
       "      <td>12</td>\n",
       "      <td>7.256857e+05</td>\n",
       "    </tr>\n",
       "  </tbody>\n",
       "</table>\n",
       "</div>"
      ],
      "text/plain": [
       "    Month_num  claim_amount\n",
       "0           1  1.331832e+06\n",
       "1           2  1.156579e+06\n",
       "2           3  1.348315e+06\n",
       "3           4  1.276020e+06\n",
       "4           5  1.115035e+06\n",
       "5           6  1.317728e+06\n",
       "6           7  1.382493e+06\n",
       "7           8  9.134147e+05\n",
       "8           9  9.803903e+05\n",
       "9          10  1.428671e+06\n",
       "10         11  6.259235e+05\n",
       "11         12  7.256857e+05"
      ]
     },
     "execution_count": 444,
     "metadata": {},
     "output_type": "execute_result"
    }
   ],
   "source": [
    "Data_360['Month_num'] = pd.DatetimeIndex(Data_360.claim_date).month\n",
    "mon_trend = Data_360.groupby('Month_num')['claim_amount'].sum().reset_index()\n",
    "mon_trend"
   ]
  },
  {
   "cell_type": "code",
   "execution_count": 445,
   "id": "9ebe0575-7b5e-43e2-a156-46be57bb70a4",
   "metadata": {},
   "outputs": [
    {
     "data": {
      "image/png": "[encoded data removed]",
      "text/plain": [
       "<Figure size 640x480 with 1 Axes>"
      ]
     },
     "metadata": {},
     "output_type": "display_data"
    }
   ],
   "source": [
    "pd.pivot_table(mon_trend,index='Month_num',values=\"claim_amount\").plot(kind = \"bar\")\n",
    "plt.show()"
   ]
  },
  {
   "cell_type": "markdown",
   "id": "5f06a088-286a-4229-bc72-7154883ce346",
   "metadata": {},
   "source": [
    "##15. What is the average claim amount for gender and age categories and suitably represent the above using a facetted bar chart, one facet that \n",
    "represents fraudulent claims and the other for non-fraudulent claims"
   ]
  },
  {
   "cell_type": "code",
   "execution_count": 446,
   "id": "792c4370-f6d6-4e52-abe2-2615be97e808",
   "metadata": {},
   "outputs": [
    {
     "name": "stderr",
     "output_type": "stream",
     "text": [
      "C:\\Users\\hp\\AppData\\Local\\Temp\\ipykernel_19244\\3284295744.py:1: FutureWarning: The default of observed=False is deprecated and will be changed to True in a future version of pandas. Pass observed=False to retain current behavior or observed=True to adopt the future default and silence this warning.\n",
      "  fraud = Data_360[(Data_360.fraudulent==\"Yes\")].groupby([\"gender\",\"age_category\"])[[\"claim_amount\"]].mean().add_prefix(\"Fraud_\")\n"
     ]
    },
    {
     "data": {
      "text/html": [
       "<div>\n",
       "<style scoped>\n",
       "    .dataframe tbody tr th:only-of-type {\n",
       "        vertical-align: middle;\n",
       "    }\n",
       "\n",
       "    .dataframe tbody tr th {\n",
       "        vertical-align: top;\n",
       "    }\n",
       "\n",
       "    .dataframe thead th {\n",
       "        text-align: right;\n",
       "    }\n",
       "</style>\n",
       "<table border=\"1\" class=\"dataframe\">\n",
       "  <thead>\n",
       "    <tr style=\"text-align: right;\">\n",
       "      <th></th>\n",
       "      <th></th>\n",
       "      <th>Fraud_claim_amount</th>\n",
       "    </tr>\n",
       "    <tr>\n",
       "      <th>gender</th>\n",
       "      <th>age_category</th>\n",
       "      <th></th>\n",
       "    </tr>\n",
       "  </thead>\n",
       "  <tbody>\n",
       "    <tr>\n",
       "      <th rowspan=\"4\" valign=\"top\">Female</th>\n",
       "      <th>Children</th>\n",
       "      <td>NaN</td>\n",
       "    </tr>\n",
       "    <tr>\n",
       "      <th>Youth</th>\n",
       "      <td>10137.465893</td>\n",
       "    </tr>\n",
       "    <tr>\n",
       "      <th>Adult</th>\n",
       "      <td>11206.352883</td>\n",
       "    </tr>\n",
       "    <tr>\n",
       "      <th>Senior</th>\n",
       "      <td>NaN</td>\n",
       "    </tr>\n",
       "    <tr>\n",
       "      <th rowspan=\"4\" valign=\"top\">Male</th>\n",
       "      <th>Children</th>\n",
       "      <td>NaN</td>\n",
       "    </tr>\n",
       "    <tr>\n",
       "      <th>Youth</th>\n",
       "      <td>8934.081809</td>\n",
       "    </tr>\n",
       "    <tr>\n",
       "      <th>Adult</th>\n",
       "      <td>15589.206751</td>\n",
       "    </tr>\n",
       "    <tr>\n",
       "      <th>Senior</th>\n",
       "      <td>NaN</td>\n",
       "    </tr>\n",
       "  </tbody>\n",
       "</table>\n",
       "</div>"
      ],
      "text/plain": [
       "                     Fraud_claim_amount\n",
       "gender age_category                    \n",
       "Female Children                     NaN\n",
       "       Youth               10137.465893\n",
       "       Adult               11206.352883\n",
       "       Senior                       NaN\n",
       "Male   Children                     NaN\n",
       "       Youth                8934.081809\n",
       "       Adult               15589.206751\n",
       "       Senior                       NaN"
      ]
     },
     "execution_count": 446,
     "metadata": {},
     "output_type": "execute_result"
    }
   ],
   "source": [
    "fraud = Data_360[(Data_360.fraudulent==\"Yes\")].groupby([\"gender\",\"age_category\"])[[\"claim_amount\"]].mean().add_prefix(\"Fraud_\")\n",
    "fraud"
   ]
  },
  {
   "cell_type": "code",
   "execution_count": 447,
   "id": "0351fe58-4512-4e0b-a16d-a9790a726db7",
   "metadata": {},
   "outputs": [
    {
     "name": "stderr",
     "output_type": "stream",
     "text": [
      "C:\\Users\\hp\\AppData\\Local\\Temp\\ipykernel_19244\\3845917716.py:1: FutureWarning: The default of observed=False is deprecated and will be changed to True in a future version of pandas. Pass observed=False to retain current behavior or observed=True to adopt the future default and silence this warning.\n",
      "  non_fraud = Data_360[(Data_360.fraudulent==\"No\")].groupby([\"gender\",\"age_category\"])[[\"claim_amount\"]].mean().add_prefix(\"Non_Fraud_\")\n"
     ]
    },
    {
     "data": {
      "text/html": [
       "<div>\n",
       "<style scoped>\n",
       "    .dataframe tbody tr th:only-of-type {\n",
       "        vertical-align: middle;\n",
       "    }\n",
       "\n",
       "    .dataframe tbody tr th {\n",
       "        vertical-align: top;\n",
       "    }\n",
       "\n",
       "    .dataframe thead th {\n",
       "        text-align: right;\n",
       "    }\n",
       "</style>\n",
       "<table border=\"1\" class=\"dataframe\">\n",
       "  <thead>\n",
       "    <tr style=\"text-align: right;\">\n",
       "      <th></th>\n",
       "      <th></th>\n",
       "      <th>Non_Fraud_claim_amount</th>\n",
       "    </tr>\n",
       "    <tr>\n",
       "      <th>gender</th>\n",
       "      <th>age_category</th>\n",
       "      <th></th>\n",
       "    </tr>\n",
       "  </thead>\n",
       "  <tbody>\n",
       "    <tr>\n",
       "      <th rowspan=\"4\" valign=\"top\">Female</th>\n",
       "      <th>Children</th>\n",
       "      <td>NaN</td>\n",
       "    </tr>\n",
       "    <tr>\n",
       "      <th>Youth</th>\n",
       "      <td>13147.120315</td>\n",
       "    </tr>\n",
       "    <tr>\n",
       "      <th>Adult</th>\n",
       "      <td>12276.803706</td>\n",
       "    </tr>\n",
       "    <tr>\n",
       "      <th>Senior</th>\n",
       "      <td>NaN</td>\n",
       "    </tr>\n",
       "    <tr>\n",
       "      <th rowspan=\"4\" valign=\"top\">Male</th>\n",
       "      <th>Children</th>\n",
       "      <td>NaN</td>\n",
       "    </tr>\n",
       "    <tr>\n",
       "      <th>Youth</th>\n",
       "      <td>13273.444838</td>\n",
       "    </tr>\n",
       "    <tr>\n",
       "      <th>Adult</th>\n",
       "      <td>11939.142491</td>\n",
       "    </tr>\n",
       "    <tr>\n",
       "      <th>Senior</th>\n",
       "      <td>NaN</td>\n",
       "    </tr>\n",
       "  </tbody>\n",
       "</table>\n",
       "</div>"
      ],
      "text/plain": [
       "                     Non_Fraud_claim_amount\n",
       "gender age_category                        \n",
       "Female Children                         NaN\n",
       "       Youth                   13147.120315\n",
       "       Adult                   12276.803706\n",
       "       Senior                           NaN\n",
       "Male   Children                         NaN\n",
       "       Youth                   13273.444838\n",
       "       Adult                   11939.142491\n",
       "       Senior                           NaN"
      ]
     },
     "execution_count": 447,
     "metadata": {},
     "output_type": "execute_result"
    }
   ],
   "source": [
    "non_fraud = Data_360[(Data_360.fraudulent==\"No\")].groupby([\"gender\",\"age_category\"])[[\"claim_amount\"]].mean().add_prefix(\"Non_Fraud_\")\n",
    "non_fraud"
   ]
  },
  {
   "cell_type": "code",
   "execution_count": 448,
   "id": "664b7e13-d7d5-4e83-898e-df89f00e0cf8",
   "metadata": {},
   "outputs": [
    {
     "data": {
      "text/html": [
       "<div>\n",
       "<style scoped>\n",
       "    .dataframe tbody tr th:only-of-type {\n",
       "        vertical-align: middle;\n",
       "    }\n",
       "\n",
       "    .dataframe tbody tr th {\n",
       "        vertical-align: top;\n",
       "    }\n",
       "\n",
       "    .dataframe thead th {\n",
       "        text-align: right;\n",
       "    }\n",
       "</style>\n",
       "<table border=\"1\" class=\"dataframe\">\n",
       "  <thead>\n",
       "    <tr style=\"text-align: right;\">\n",
       "      <th></th>\n",
       "      <th></th>\n",
       "      <th>Fraud_claim_amount</th>\n",
       "      <th>Non_Fraud_claim_amount</th>\n",
       "    </tr>\n",
       "    <tr>\n",
       "      <th>gender</th>\n",
       "      <th>age_category</th>\n",
       "      <th></th>\n",
       "      <th></th>\n",
       "    </tr>\n",
       "  </thead>\n",
       "  <tbody>\n",
       "    <tr>\n",
       "      <th rowspan=\"4\" valign=\"top\">Female</th>\n",
       "      <th>Children</th>\n",
       "      <td>NaN</td>\n",
       "      <td>NaN</td>\n",
       "    </tr>\n",
       "    <tr>\n",
       "      <th>Youth</th>\n",
       "      <td>10137.47</td>\n",
       "      <td>13147.12</td>\n",
       "    </tr>\n",
       "    <tr>\n",
       "      <th>Adult</th>\n",
       "      <td>11206.35</td>\n",
       "      <td>12276.80</td>\n",
       "    </tr>\n",
       "    <tr>\n",
       "      <th>Senior</th>\n",
       "      <td>NaN</td>\n",
       "      <td>NaN</td>\n",
       "    </tr>\n",
       "    <tr>\n",
       "      <th rowspan=\"4\" valign=\"top\">Male</th>\n",
       "      <th>Children</th>\n",
       "      <td>NaN</td>\n",
       "      <td>NaN</td>\n",
       "    </tr>\n",
       "    <tr>\n",
       "      <th>Youth</th>\n",
       "      <td>8934.08</td>\n",
       "      <td>13273.44</td>\n",
       "    </tr>\n",
       "    <tr>\n",
       "      <th>Adult</th>\n",
       "      <td>15589.21</td>\n",
       "      <td>11939.14</td>\n",
       "    </tr>\n",
       "    <tr>\n",
       "      <th>Senior</th>\n",
       "      <td>NaN</td>\n",
       "      <td>NaN</td>\n",
       "    </tr>\n",
       "  </tbody>\n",
       "</table>\n",
       "</div>"
      ],
      "text/plain": [
       "                     Fraud_claim_amount  Non_Fraud_claim_amount\n",
       "gender age_category                                            \n",
       "Female Children                     NaN                     NaN\n",
       "       Youth                   10137.47                13147.12\n",
       "       Adult                   11206.35                12276.80\n",
       "       Senior                       NaN                     NaN\n",
       "Male   Children                     NaN                     NaN\n",
       "       Youth                    8934.08                13273.44\n",
       "       Adult                   15589.21                11939.14\n",
       "       Senior                       NaN                     NaN"
      ]
     },
     "execution_count": 448,
     "metadata": {},
     "output_type": "execute_result"
    }
   ],
   "source": [
    "fraud_non_fraud=round(pd.merge(fraud,non_fraud,on=[\"gender\",\"age_category\"]),2)\n",
    "fraud_non_fraud"
   ]
  },
  {
   "cell_type": "code",
   "execution_count": 449,
   "id": "0ff34f09-adb9-4fd0-82ec-45ef4f7c3527",
   "metadata": {},
   "outputs": [
    {
     "data": {
      "image/png": "[encoded data removed]",
      "text/plain": [
       "<Figure size 640x480 with 2 Axes>"
      ]
     },
     "metadata": {},
     "output_type": "display_data"
    }
   ],
   "source": [
    "fraud_non_fraud.plot(kind=\"bar\", subplots= True, legend= True)\n",
    "plt.show()"
   ]
  },
  {
   "cell_type": "markdown",
   "id": "d1db54c4-9dd4-4080-94ec-edf49b47af65",
   "metadata": {},
   "source": [
    "##16. Is there any similarity in the amount claimed by males and females"
   ]
  },
  {
   "cell_type": "code",
   "execution_count": 450,
   "id": "de875ace-1868-4007-ae84-e054e0fc51b3",
   "metadata": {},
   "outputs": [],
   "source": [
    "# Data values must be independent. Measurements for one observation do not affect measurements for any other observation.\n",
    "# Data in each group must be obtained via a random sample from the population.\n",
    "# Data in each group are normally distributed.\n",
    "# Data values are continuous.\n",
    "# The variances for the two independent groups are equal.\n",
    "#As the significance value of t test is greater than 0.05 we can safely conclude that there is a similarity in amount claimed by males and females."
   ]
  },
  {
   "cell_type": "code",
   "execution_count": 451,
   "id": "45c8aec5-c5c3-400a-adbb-e2ed7ff7b00a",
   "metadata": {},
   "outputs": [
    {
     "data": {
      "text/plain": [
       "TtestResult(statistic=-0.8225034618130944, pvalue=0.4109704473242838, df=1089.15788367314)"
      ]
     },
     "execution_count": 451,
     "metadata": {},
     "output_type": "execute_result"
    }
   ],
   "source": [
    "import scipy.stats as st\n",
    "female = Data_360['claim_amount'].loc[Data_360['gender']==\"Female\"]\n",
    "male = Data_360['claim_amount'].loc[Data_360['gender']==\"Male\"]\n",
    "st.ttest_ind(female, male, equal_var=False)"
   ]
  },
  {
   "cell_type": "code",
   "execution_count": 452,
   "id": "2d080cac-e591-4168-bc94-48fbec906b8f",
   "metadata": {},
   "outputs": [],
   "source": [
    "pvalue=0.3762586388329351"
   ]
  },
  {
   "cell_type": "code",
   "execution_count": 453,
   "id": "06bf102f-af9b-4640-bf05-59472a21ae5b",
   "metadata": {},
   "outputs": [
    {
     "name": "stdout",
     "output_type": "stream",
     "text": [
      "there is a similarity in amount claimed by males and females\n"
     ]
    }
   ],
   "source": [
    "if pvalue>0.05:\n",
    "   print('there is a similarity in amount claimed by males and females')\n",
    "else:\n",
    "   print('no similarity')"
   ]
  },
  {
   "cell_type": "markdown",
   "id": "36c91a92-7cf3-49f1-bf07-aa73b2158a8f",
   "metadata": {},
   "source": [
    "## 17. Is there any relationship between age category and segment?"
   ]
  },
  {
   "cell_type": "code",
   "execution_count": 454,
   "id": "b991bb2c-d1e9-4384-ab85-18b413b03ea3",
   "metadata": {},
   "outputs": [],
   "source": [
    "# Chi Square test:\n",
    "# H0 = No relation between category and segment\n",
    "# Ha = There is a relationship between category and segment\n",
    "# Since the significance value of the test is greter than 0.05, we fail reject the null hypothesis. \n",
    "#Therefore there is no relationship between age category and segment"
   ]
  },
  {
   "cell_type": "code",
   "execution_count": 455,
   "id": "f5591ed9-bf4c-4228-9bd9-09ccfce8d3f4",
   "metadata": {},
   "outputs": [
    {
     "data": {
      "text/plain": [
       "Chi2ContingencyResult(statistic=0.9547625029386648, pvalue=0.9872691673495114, dof=6, expected_freq=array([[  61.44922232,   57.46935041,   55.08142726,  174.        ],\n",
       "       [ 324.55077768,  303.53064959,  290.91857274,  919.        ],\n",
       "       [ 386.        ,  361.        ,  346.        , 1093.        ]]))"
      ]
     },
     "execution_count": 455,
     "metadata": {},
     "output_type": "execute_result"
    }
   ],
   "source": [
    "c = pd.crosstab(Data_360.age_category, Data_360.Segment, margins = True)\n",
    "st.chi2_contingency(observed= c)"
   ]
  },
  {
   "cell_type": "code",
   "execution_count": 456,
   "id": "d33945e8-4d47-4ef8-b907-56d84276eb9e",
   "metadata": {},
   "outputs": [],
   "source": [
    "pvalue=0.9975425572218226"
   ]
  },
  {
   "cell_type": "code",
   "execution_count": 457,
   "id": "a4c98f7c-27ae-4435-b78f-29cc1ca011ca",
   "metadata": {},
   "outputs": [
    {
     "name": "stdout",
     "output_type": "stream",
     "text": [
      "fail to reject H0 = No relation between category and segment\n"
     ]
    }
   ],
   "source": [
    "if pvalue>0.05:\n",
    "   print('fail to reject H0 = No relation between category and segment')\n",
    "else:\n",
    "   print('reject H0')"
   ]
  },
  {
   "cell_type": "markdown",
   "id": "ab0550af-8ab8-4d20-9ea0-87e0fa765e48",
   "metadata": {},
   "source": [
    "##18. The current year has shown a significant rise in claim amounts as compared to 2016-17 fiscal average which was $10,000"
   ]
  },
  {
   "cell_type": "code",
   "execution_count": 458,
   "id": "3b77620a-c696-4fef-bbca-9647f1f25dca",
   "metadata": {},
   "outputs": [],
   "source": [
    "Data_360['year'] = pd.DatetimeIndex(Data_360.claim_date).year"
   ]
  },
  {
   "cell_type": "code",
   "execution_count": 459,
   "id": "e6ae2a00-58a8-447c-b366-a3e776e3e386",
   "metadata": {},
   "outputs": [
    {
     "data": {
      "text/plain": [
       "nan"
      ]
     },
     "execution_count": 459,
     "metadata": {},
     "output_type": "execute_result"
    }
   ],
   "source": [
    "CY = Data_360.loc[Data_360.year == 2018][\"claim_amount\"]\n",
    "PY = Data_360.loc[Data_360.year == 2017][\"claim_amount\"]\n",
    "CY.corr(other= PY)"
   ]
  },
  {
   "cell_type": "markdown",
   "id": "46783983-0b9e-48b4-9ff7-869b0462ed37",
   "metadata": {},
   "source": [
    "## 19. Is there any difference between age groups and insurance claims?"
   ]
  },
  {
   "cell_type": "code",
   "execution_count": 460,
   "id": "0f94e566-c79d-4557-aeb9-84ef9595da6d",
   "metadata": {},
   "outputs": [],
   "source": [
    "# ANOVA:\n",
    "# H0 = No relation between category and segment\n",
    "# Ha = There is a relationship between category and segment\n",
    "# Since the significance value of the test is greater than 0.05, we fail reject the null hypothesis.\n",
    "#Therefore, there is no difference between age groups and insurance claims or No influence of age groups on insurance claims"
   ]
  },
  {
   "cell_type": "code",
   "execution_count": 461,
   "id": "d532a84d-6af9-4e85-9cc6-ea64f5af92b2",
   "metadata": {},
   "outputs": [
    {
     "data": {
      "text/plain": [
       "F_onewayResult(statistic=1.001195905895886, pvalue=0.3172431762497246)"
      ]
     },
     "execution_count": 461,
     "metadata": {},
     "output_type": "execute_result"
    }
   ],
   "source": [
    "Y = Data_360['total_policy_claims'].loc[Data_360['age_category']==\"Youth\"]\n",
    "A = Data_360['total_policy_claims'].loc[Data_360['age_category']==\"Adult\"]\n",
    "st.f_oneway(Y,A)"
   ]
  },
  {
   "cell_type": "code",
   "execution_count": 462,
   "id": "4301d99c-97e9-474a-b20e-5e2779397ccc",
   "metadata": {},
   "outputs": [],
   "source": [
    "pvalue=0.3172431762497246"
   ]
  },
  {
   "cell_type": "code",
   "execution_count": 463,
   "id": "db485ee9-0c0a-4f2c-8bb7-ca4ab4a6facd",
   "metadata": {},
   "outputs": [
    {
     "name": "stdout",
     "output_type": "stream",
     "text": [
      "fail to reject H0\n"
     ]
    }
   ],
   "source": [
    "if pvalue>0.05:\n",
    "   print('fail to reject H0')\n",
    "else:\n",
    "   print('reject H0')"
   ]
  },
  {
   "cell_type": "markdown",
   "id": "fd662e7d-f6fb-4522-9b2d-d81ec854e8fe",
   "metadata": {},
   "source": [
    "## 20. Is there any relationship between total number of policy claims and the claimed amount"
   ]
  },
  {
   "cell_type": "code",
   "execution_count": 464,
   "id": "7e7e2761-2b03-4b36-aa47-29ff2d015900",
   "metadata": {},
   "outputs": [],
   "source": [
    "# As the correlation is negative the number of policy claims in inversely propotional to the claimed amount."
   ]
  },
  {
   "cell_type": "code",
   "execution_count": 465,
   "id": "3e4be1eb-9d23-4e3d-92a2-067d81c6024b",
   "metadata": {},
   "outputs": [
    {
     "data": {
      "text/plain": [
       "-0.0169221288666006"
      ]
     },
     "execution_count": 465,
     "metadata": {},
     "output_type": "execute_result"
    }
   ],
   "source": [
    "Data_360.total_policy_claims.corr(other= Data_360.claim_amount)"
   ]
  },
  {
   "cell_type": "code",
   "execution_count": null,
   "id": "adc7e2a4-50e2-4c2e-8f47-6e98f29500ef",
   "metadata": {},
   "outputs": [],
   "source": []
  }
 ],
 "metadata": {
  "kernelspec": {
   "display_name": "Python 3 (ipykernel)",
   "language": "python",
   "name": "python3"
  },
  "language_info": {
   "codemirror_mode": {
    "name": "ipython",
    "version": 3
   },
   "file_extension": ".py",
   "mimetype": "text/x-python",
   "name": "python",
   "nbconvert_exporter": "python",
   "pygments_lexer": "ipython3",
   "version": "3.11.7"
  }
 },
 "nbformat": 4,
 "nbformat_minor": 5
}
